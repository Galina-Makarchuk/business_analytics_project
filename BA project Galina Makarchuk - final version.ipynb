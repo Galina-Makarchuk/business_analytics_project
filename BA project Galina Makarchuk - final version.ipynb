{
 "cells": [
  {
   "cell_type": "markdown",
   "id": "f4a13cf0-f41a-4ea6-8ff2-9474edb9d891",
   "metadata": {},
   "source": [
    "<h1>Business Analytics Project</h1>"
   ]
  },
  {
   "cell_type": "markdown",
   "id": "e32f649b-8683-4d49-a2dc-a6a8eae48dc9",
   "metadata": {},
   "source": [
    "# Table of Contents <a id='back'></a>\n",
    "\n",
    "* [Intro](#intro)\n",
    "* [0. Opening data files](#data_review)\n",
    "* [1. Data preprocessing](#data_preprocessing)\n",
    "    * [1.1. general information](#general)\n",
    "        * [Conclusions](#conclusions_1)\n",
    "    * [1.2. data optimization](#optimization)\n",
    "        * [Conclusions](#conclusions_2)\n",
    "    * [1.3. column names](#columns)\n",
    "        * [Conclusions](#conclusions_3)\n",
    "    * [1.4. dates range](#dates)\n",
    "        * [Conclusions](#conclusions_3_1)\n",
    "    * [Data summary](#summary_1)\n",
    "* [2. Reports and metrics](#metrics)\n",
    "    * [2.1. Product](#product)\n",
    "        * [2.1.1. number of customers (DAU, WAU, MAU)](#customers)\n",
    "            * [Conclusions](#conclusions_4)\n",
    "        * [2.1.2. number of sessions per day](sessions)\n",
    "            * [Conclusions](#conclusions_5)\n",
    "        * [2.1.3. session length](#session_length)\n",
    "            * [Conclusions](#conclusions_6)\n",
    "        * [2.1.4. user retention rate](#retention_rate)\n",
    "            * [Conclusions](#conclusions_7)\n",
    "    * [Product summary](#summary_2)\n",
    "    * [2.2. Sales](#sales)\n",
    "        * [2.2.1. cohorts conversions](#cohorts_conversions)\n",
    "            * [2.2.1.1. conversion](#conversion)\n",
    "            * [2.2.1.2. conversion time per marketing channel](#conversion_time)\n",
    "            * [2.2.1.3. conversion rate](#conversion_rate)\n",
    "            * [2.2.1.4. conversion rate per marketing channel](#conversion_channel)\n",
    "            * [Conclusions](#conclusions_8)\n",
    "        * [2.2.2. number of orders](#number_orders)\n",
    "            * [Conclusions](#conclusions_9)\n",
    "        * [2.2.3. average purchase size](#purchase_size)\n",
    "            * [2.2.3.1. overall average check](#average_check)\n",
    "            * [2.2.3.2. average check per customer](#customer_check)\n",
    "            * [2.2.3.3. average check per month](#month_check)\n",
    "            * [2.2.3.4. cohort analysis on the average check per month](#cohort_month_check)\n",
    "            * [Conclusions](#conclusions_10)\n",
    "        * [2.2.4. LTV](#LTV)\n",
    "            * [Conclusions](#conclusions_11)\n",
    "    * [Sales summary](#summary_3)\n",
    "    * [2.3. Marketing](#marketing)\n",
    "        * [2.3.1. money spent per source](#money_spent)\n",
    "            * [2.3.1.1. overall marketing costs](#marketing_cost)\n",
    "            * [2.3.1.2. marketing costs per source](#marketing_source)\n",
    "            * [2.3.1.3. marketing costs per month](#marketing_month)\n",
    "            * [2.3.1.4. marketing costs per month and source](#marketing_month_source)\n",
    "            * [2.3.1.5. marketing costs vs MAU vs revenue per month](#marketing_comparison)\n",
    "            * [Conclusions](#conclusions_12)\n",
    "        * [2.3.2. customer acquisition cost](#customer_cost)\n",
    "            * [2.3.2.1. CAC per source](#cac_source)\n",
    "            * [2.3.2.2. CAC vs conversion rate per source](#cac_conversion)\n",
    "            * [2.3.2.3. CAC per month](#cac_month)\n",
    "            * [2.3.2.4. CAC vs average check per month](#cac_check)\n",
    "            * [2.3.2.5. CAC per source per month](#cac_source_month)\n",
    "            * [Conclusions](#conclusions_13)\n",
    "        * [2.3.3. ROI](#ROI)\n",
    "            * [2.3.3.1. ROI per cohort](#ROI_cohort)\n",
    "            * [2.3.3.2. ROMI per source](#ROI_source)\n",
    "            * [Conclusions](#conclusions_14)\n",
    "    * [Marketing summary](#summary_4)   \n",
    "* [3. Recommendations](#recommendations)\n",
    "    * [3.1. Product recommendations](#recommendations_product)\n",
    "    * [3.2. Sales recommendations](#recommendations_sales)\n",
    "    * [3.3. Marketing recommendations](#recommendations_marketing)"
   ]
  },
  {
   "cell_type": "markdown",
   "id": "99f74ee4-6b52-4d23-835e-0142c67b54ae",
   "metadata": {},
   "source": [
    "<h1>Intro</h1> <a id='intro'></a>\n",
    "\n",
    "This project works with the following data from Yandex.Afisha:\n",
    "- server logs with data on visits from June 2017 through May 2018\n",
    "- dump file with all orders for the period\n",
    "- marketing expenses statistics\n",
    "\n",
    "__Purpose:__\n",
    "* contribute to the optimization of marketing spendings\n",
    "\n",
    "__Tasks:__\n",
    "- explore customers behavior in terms of visiting the website and making purchases\n",
    "- figure out how customers use the product (how often, for how long)\n",
    "- find how many orders each customer makes and how much money it brings\n",
    "- evaluate how much it costs to attract a new customer\n",
    "- determine what advertising sources bring the most buyers\n",
    "- calculate when a customer pays off\n",
    "\n",
    "__Main steps:__\n",
    "- download the data, optimize and preprocess it for analysis\n",
    "- calculate the main metrics and make reports for product, sales and marketing\n",
    "- give marketing experts recommendations on how much money to invest and where"
   ]
  },
  {
   "cell_type": "markdown",
   "id": "af15c284-8b69-4099-9d23-849368de65f8",
   "metadata": {},
   "source": [
    "<h1>0. Opening data files</h1> <a id='data_review'></a>"
   ]
  },
  {
   "cell_type": "code",
   "execution_count": null,
   "id": "e3eb1667-40b3-4b56-8df1-bb1b259d18b8",
   "metadata": {},
   "outputs": [],
   "source": [
    "import pandas as pd\n",
    "import numpy as np\n",
    "import plotly.express as px\n",
    "from matplotlib import pyplot as plt\n",
    "import plotly.graph_objects as go\n",
    "import seaborn as sns"
   ]
  },
  {
   "cell_type": "code",
   "execution_count": null,
   "id": "5a45bc3f-1539-4b97-b6a2-a433c0cdda7d",
   "metadata": {},
   "outputs": [],
   "source": [
    "try:\n",
    "    visit=pd.read_csv('visits_log_us.csv')\n",
    "    order=pd.read_csv('orders_log_us.csv')\n",
    "    expense=pd.read_csv('costs_us.csv')\n",
    "except:\n",
    "    visit=pd.read_csv('/datasets/visits_log_us.csv')\n",
    "    order=pd.read_csv('/datasets/orders_log_us.csv')\n",
    "    expense=pd.read_csv('/datasets/costs_us.csv')"
   ]
  },
  {
   "cell_type": "markdown",
   "id": "4ab1ddb5-d7a4-4333-9da4-8b1fa7c02aee",
   "metadata": {},
   "source": [
    "[Back to Contents](#back)"
   ]
  },
  {
   "cell_type": "markdown",
   "id": "857ab26f-280b-4fff-ae78-7f07881aab74",
   "metadata": {},
   "source": [
    "<h1>1. Data preprocessing</h1> <a id='data_preprocessing'></a>"
   ]
  },
  {
   "cell_type": "markdown",
   "id": "44ace9d7-e37f-4e9a-8dde-520613c83c77",
   "metadata": {},
   "source": [
    "<h2>1.1. general information</h2> <a id='general'></a>"
   ]
  },
  {
   "cell_type": "markdown",
   "id": "7c048790-3fab-4b6a-99e0-19baf3c037ad",
   "metadata": {},
   "source": [
    "Checking the general information about each table, including the memory usage."
   ]
  },
  {
   "cell_type": "code",
   "execution_count": null,
   "id": "a9de9c48-c49c-4b1b-91ff-c0d12be565d4",
   "metadata": {},
   "outputs": [],
   "source": [
    "print('{}VISITS{}'.format('\\033[1m', '\\033[0m'))\n",
    "print('The number of duplicated rows is:', visit.duplicated().sum())\n",
    "display(visit.head())\n",
    "visit.info(memory_usage='deep')\n",
    "print('===========================================================')\n",
    "print('{}ORDERS{}'.format('\\033[1m', '\\033[0m'))\n",
    "print('The number of duplicated rows is:', order.duplicated().sum())\n",
    "display(order.head())\n",
    "order.info(memory_usage='deep')\n",
    "print('===========================================================')\n",
    "print('{}EXPENSES{}'.format('\\033[1m', '\\033[0m'))\n",
    "print('The number of duplicated rows is:', expense.duplicated().sum())\n",
    "display(expense.head())\n",
    "expense.info(memory_usage='deep')"
   ]
  },
  {
   "cell_type": "code",
   "execution_count": null,
   "id": "b6eb938a-e2a6-4eeb-bb67-80b92e94d5af",
   "metadata": {},
   "outputs": [],
   "source": [
    "# analysing the column Device in the table visits\n",
    "# using the method value_counts() to find the number of unique values in the column and how they are distributed\n",
    "visit['Device'].value_counts()"
   ]
  },
  {
   "cell_type": "markdown",
   "id": "f821eae4-1dc9-4898-87d3-faa27a476398",
   "metadata": {},
   "source": [
    "This column has only two values: desktop and touch. These are device categories: computers and touch screen devices. \\\n",
    "The data type of this column should be converted from object to category to optimize memory usage. \\\n",
    "This can be done in 2 ways:\n",
    "1. using the method astype('category'): \\\n",
    "visit['Device'] = visit['Device'].astype('category')\n",
    "2. using the parameter dtype of the method pd.read_csv(): \\\n",
    "visit=pd.read_csv('visits_log_us.csv', dtype={'Device': 'category'})"
   ]
  },
  {
   "cell_type": "markdown",
   "id": "cbff8e31-3100-41af-abe1-104754392d06",
   "metadata": {},
   "source": [
    "<h3>Conclusions</h3> <a id='conclusions_1'></a>\n",
    "\n",
    "*__1. Missing & duplicate values__*\n",
    "* all 3 tables have no missing values\n",
    "* all 3 tables have no duplicate values\n",
    "\n",
    "*__2. Data types__*\n",
    "* all 3 tables have columns where the data types should be changed as follows\n",
    "\n",
    "Table visits\n",
    "* Device: from object to category\n",
    "* End Ts: from object to datetime\n",
    "* Start Ts: from object to datetime\n",
    "\n",
    "Table orders\n",
    "* Buy Ts: from object to datetime\n",
    "\n",
    "Table expenses\n",
    "* dt: from object to datetime\n",
    "\n",
    "*__3. Column names__*\n",
    "* the column names in the tables visits and orders should be corrected as follows:\n",
    "    * change uppercase to lowercase\n",
    "    * use snake_case naming convention\n",
    "* the column names in the table expenses are correct\n",
    "\n",
    "[Back to Contents](#back)"
   ]
  },
  {
   "cell_type": "markdown",
   "id": "413d0489-1651-4f40-8aae-73e40c56952c",
   "metadata": {},
   "source": [
    "<h2>1.2. data optimization</h2> <a id='optimization'></a>"
   ]
  },
  {
   "cell_type": "markdown",
   "id": "3b11d62e-ef9c-4572-9498-b10f094a2a5d",
   "metadata": {},
   "source": [
    "Using these parameters of the pd.read_csv() method to optimize data:\n",
    "* dtype to convert the column Device (table visits) data to the category type\n",
    "* parse_dates to convert columns with dates to the datetime type"
   ]
  },
  {
   "cell_type": "code",
   "execution_count": null,
   "id": "31f59cc0-88ae-4fd7-89c8-3521e23feac8",
   "metadata": {},
   "outputs": [],
   "source": [
    "try:\n",
    "    visit=pd.read_csv('visits_log_us.csv', parse_dates=['Start Ts', 'End Ts'], dtype={'Device': 'category'})\n",
    "    order=pd.read_csv('orders_log_us.csv', parse_dates=['Buy Ts'])\n",
    "    expense=pd.read_csv('costs_us.csv', parse_dates=['dt'])\n",
    "except:\n",
    "    visit=pd.read_csv('/datasets/visits_log_us.csv', parse_dates=['Start Ts', 'End Ts'], dtype={'Device': 'category'})\n",
    "    order=pd.read_csv('/datasets/orders_log_us.csv', parse_dates=['Buy Ts'])\n",
    "    expense=pd.read_csv('/datasets/costs_us.csv', parse_dates=['dt'])"
   ]
  },
  {
   "attachments": {},
   "cell_type": "markdown",
   "id": "afbca704-cad9-4b82-a143-a200539651a7",
   "metadata": {},
   "source": [
    "Checking the result."
   ]
  },
  {
   "cell_type": "code",
   "execution_count": null,
   "id": "8a79906d-33e0-480a-922f-75efa8bdfcb8",
   "metadata": {},
   "outputs": [],
   "source": [
    "print('{}VISITS{}'.format('\\033[1m', '\\033[0m'))\n",
    "display(visit.head())\n",
    "visit.info(memory_usage='deep')\n",
    "print('========================================')\n",
    "print('{}ORDERS{}'.format('\\033[1m', '\\033[0m'))\n",
    "display(order.head())\n",
    "order.info(memory_usage='deep')\n",
    "print('========================================')\n",
    "print('{}EXPENSES{}'.format('\\033[1m', '\\033[0m'))\n",
    "display(expense.head())\n",
    "expense.info(memory_usage='deep')"
   ]
  },
  {
   "cell_type": "code",
   "execution_count": null,
   "id": "9808ecc0-4837-42ca-8e44-9cef62826a5f",
   "metadata": {},
   "outputs": [],
   "source": [
    "# making copies of the dataframes to work with them further\n",
    "visits = visit.copy()\n",
    "orders = order.copy()\n",
    "expenses = expense.copy()"
   ]
  },
  {
   "cell_type": "markdown",
   "id": "fe4b09db-b5ab-4ea3-b0e4-9d1c6d738dcb",
   "metadata": {},
   "source": [
    "<h3>Conclusions</h3> <a id='conclusions_2'></a>\n",
    "\n",
    "* The data type of the column Device from the table visits is changed to category.\n",
    "* All columns containing dates are converted from object to datetime data type.\n",
    "* The memory usage is reduced.\n",
    "\n",
    "[Back to Contents](#back)"
   ]
  },
  {
   "cell_type": "markdown",
   "id": "b5d29c40-b69f-4ff5-a28f-209cd8074367",
   "metadata": {},
   "source": [
    "<h2>1.3. column names</h2> <a id='columns'></a>"
   ]
  },
  {
   "cell_type": "code",
   "execution_count": null,
   "id": "54abb010-b6a5-496f-bed1-3e15b2d6de39",
   "metadata": {},
   "outputs": [],
   "source": [
    "# renaming the columns in the table visits\n",
    "visits=visits.rename(columns={'Device': 'device', 'End Ts': 'end_ts', 'Source Id': 'source_id', 'Start Ts': 'start_ts', 'Uid':'uid'})\n",
    "# checking the result\n",
    "visits.columns"
   ]
  },
  {
   "cell_type": "code",
   "execution_count": null,
   "id": "2c94f72e-31a1-4bf6-8c1f-27b36a26a179",
   "metadata": {},
   "outputs": [],
   "source": [
    "# making all column names in the table orders lowercase\n",
    "orders.columns=orders.columns.str.lower()"
   ]
  },
  {
   "cell_type": "code",
   "execution_count": null,
   "id": "29ea9690-9042-4b8f-ae7a-0b9fb87c7860",
   "metadata": {},
   "outputs": [],
   "source": [
    "# changing the column buy ts in the table orders to the snake_case\n",
    "orders.rename(columns={\"buy ts\": \"buy_ts\"}, inplace=True)\n",
    "# checking the result\n",
    "orders.columns"
   ]
  },
  {
   "cell_type": "markdown",
   "id": "c0ca2659-ae72-4076-9d7f-dcab7055aa64",
   "metadata": {},
   "source": [
    "<h3>Conclusions</h3> <a id='conclusions_3'></a>\n",
    "\n",
    "* The column names in the tables visits and orders are changed to lowercase.\n",
    "* All column names are also formatted according to the snake_case naming convention.\n",
    "\n",
    "[Back to Contents](#back)"
   ]
  },
  {
   "cell_type": "markdown",
   "id": "9393344c-a844-4687-9ed8-47be6343a5f2",
   "metadata": {},
   "source": [
    "<h2>1.4. dates range</h2> <a id='dates'></a>"
   ]
  },
  {
   "cell_type": "markdown",
   "id": "bb90054e-426a-4c65-9fde-1f3fcf8cb7f4",
   "metadata": {},
   "source": [
    "The dataset contains server logs with data on Yandex.Afisha visits from June 2017 through May 2018. \\\n",
    "Checking all tables to see if the data is within this range."
   ]
  },
  {
   "cell_type": "code",
   "execution_count": null,
   "id": "82646cd2-13d0-471b-bb15-ee90f7e5d487",
   "metadata": {},
   "outputs": [],
   "source": [
    "#checking the dates range of the table visits\n",
    "print('The first app visit occured on:', visits['start_ts'].min())\n",
    "print('The last app visit occured on:', visits['start_ts'].max())"
   ]
  },
  {
   "cell_type": "code",
   "execution_count": null,
   "id": "b8926f56-4c8c-4531-be5f-09c2e44866ed",
   "metadata": {},
   "outputs": [],
   "source": [
    "visits[['start_ts', 'end_ts']].describe()"
   ]
  },
  {
   "cell_type": "markdown",
   "id": "5a9f239f-8059-4381-b5c4-4bbfd4c59e2e",
   "metadata": {},
   "source": [
    "There are no sessions that started after the 31st of May 2018.\n",
    "But there are sessions that ended on the 1st of June 2018."
   ]
  },
  {
   "cell_type": "code",
   "execution_count": null,
   "id": "5d9dcafe-ec66-4ae3-90f5-8e98873c85ec",
   "metadata": {},
   "outputs": [],
   "source": [
    "visits[visits['start_ts'] > '2018-05-31 23:59:00']['uid'].count()"
   ]
  },
  {
   "cell_type": "code",
   "execution_count": null,
   "id": "ea165191-ed73-493f-a2b5-b7df8697bbc6",
   "metadata": {},
   "outputs": [],
   "source": [
    "visits[visits['end_ts'] > '2018-05-31 23:59:00']['uid'].count()"
   ]
  },
  {
   "cell_type": "markdown",
   "id": "316272fe-f146-4133-a6cf-85a979354fe2",
   "metadata": {},
   "source": [
    "The number of sessions ended on the 1st of June 2018 is 12. \\\n",
    "These are the sessions that started before the 1st of June 2018. \\\n",
    "This will not influence the calculations of the product metrics."
   ]
  },
  {
   "cell_type": "code",
   "execution_count": null,
   "id": "26098cb7-fbcd-4ac0-acd3-e8478dee282b",
   "metadata": {},
   "outputs": [],
   "source": [
    "#checking the dates range of the table orders\n",
    "orders['buy_ts'].describe()"
   ]
  },
  {
   "cell_type": "code",
   "execution_count": null,
   "id": "1a983586-4b75-47b8-a6d8-be1de86a3304",
   "metadata": {},
   "outputs": [],
   "source": [
    "orders[orders['buy_ts'] > '2018-05-31 23:59:00']['uid'].count()"
   ]
  },
  {
   "cell_type": "markdown",
   "id": "7e442eae-44cc-4b20-ac05-6631fb9807d5",
   "metadata": {},
   "source": [
    "There is one order placed on the 1st of June 2018. \\\n",
    "This date is an outlier and should be removed from the table not to influence the sales metrics calculations."
   ]
  },
  {
   "cell_type": "code",
   "execution_count": null,
   "id": "9d01156f-dfc1-4622-838d-7dc915a2b386",
   "metadata": {},
   "outputs": [],
   "source": [
    "outlier = orders[orders['buy_ts'] > '2018-05-31 23:59:00']\n",
    "outlier"
   ]
  },
  {
   "cell_type": "code",
   "execution_count": null,
   "id": "ea349365-7a22-4303-834c-027fde52f065",
   "metadata": {},
   "outputs": [],
   "source": [
    "# removing the outlier from the table orders\n",
    "orders = orders.drop(outlier.index)"
   ]
  },
  {
   "cell_type": "code",
   "execution_count": null,
   "id": "cda6e771-f640-4f5a-aa80-14fbda28e1b5",
   "metadata": {},
   "outputs": [],
   "source": [
    "# checking the result\n",
    "orders[orders['buy_ts'] > '2018-05-31 23:59:00']"
   ]
  },
  {
   "cell_type": "code",
   "execution_count": null,
   "id": "d7cf8de5-bc57-49e4-a942-00d1e564b308",
   "metadata": {},
   "outputs": [],
   "source": [
    "orders['buy_ts'].describe()"
   ]
  },
  {
   "cell_type": "code",
   "execution_count": null,
   "id": "f97dcecd-23e5-41f6-a049-293b47d2f5bf",
   "metadata": {},
   "outputs": [],
   "source": [
    "#checking the dates range of the table expenses\n",
    "expenses['dt'].describe()"
   ]
  },
  {
   "cell_type": "markdown",
   "id": "9e507a97-ffba-4f51-a59b-bf9b3b2c2361",
   "metadata": {},
   "source": [
    "<h3>Conclusions</h3> <a id='conclusions_3_1'></a>\n",
    "\n",
    "* In the table visits there are 12 sessions that ended on the 1st of June 2018.\n",
    "* Although this date is out of dataset range, there is no need to exclude these sessions from the table since they have no influence on the product metrics calculations.\n",
    "* In the table orders there was one order placed on the 1st of June 2018.\n",
    "* This date is an outlier and was removed from the table not to influence the sales metrics calculations.\n",
    "* In the table expenses there are no date outliers."
   ]
  },
  {
   "cell_type": "markdown",
   "id": "a055d403-864f-4d25-87e3-31dc986f3b0a",
   "metadata": {},
   "source": [
    "<h2>Data summary</h2> <a id='summary_1'></a>\n",
    "\n",
    "1. The data on customers visits, orders, and expenses is stored in the corresponding variables.\n",
    "2. The dataset has no missing or duplicate values.\n",
    "3. The columns data types are converted to the correct ones.\n",
    "4. The column names are formatted according to the snake_case naming style.\n",
    "5. The date outlier 2018-06-01 was removed from the table orders.\n",
    "6. The data is optimized and prepared for the analysis.\n",
    "\n",
    "[Back to Contents](#back)"
   ]
  },
  {
   "cell_type": "markdown",
   "id": "623fb0e3-0958-4e8b-9150-115ce614bbb5",
   "metadata": {},
   "source": [
    "<h1>2. Reports and metrics</h1> <a id='metrics'></a>"
   ]
  },
  {
   "cell_type": "markdown",
   "id": "f83fa4d4-bf53-4112-8930-6a61c7558d57",
   "metadata": {},
   "source": [
    "<h2>2.1. Product</h2> <a id='product'></a>"
   ]
  },
  {
   "cell_type": "markdown",
   "id": "7fa1d004-1bde-41b1-b402-d72da7d09b0d",
   "metadata": {},
   "source": [
    "<h3>2.1.1. number of customers (DAU, WAU, MAU)</h3> <a id='customers'></a>"
   ]
  },
  {
   "cell_type": "markdown",
   "id": "f7d720cc-5be5-4d5a-8bbc-0455747f4410",
   "metadata": {},
   "source": [
    "How many people use it every day, week, and month?"
   ]
  },
  {
   "cell_type": "code",
   "execution_count": null,
   "id": "6cf004ed-445d-4409-9fc5-140ecada47f0",
   "metadata": {},
   "outputs": [],
   "source": [
    "# creating separate columns for the day, week, and month values\n",
    "visits['session_day'] = visits['start_ts'].values.astype('datetime64[D]')\n",
    "visits['session_week']  = visits['start_ts'].values.astype('datetime64[W]')\n",
    "visits['session_month'] = visits['start_ts'].values.astype('datetime64[M]')"
   ]
  },
  {
   "cell_type": "code",
   "execution_count": null,
   "id": "a6f8b273-092b-41bf-ba40-500484c67eb4",
   "metadata": {},
   "outputs": [],
   "source": [
    "# calculating user activity metrics by grouping the data by session day/week/month\n",
    "dau = visits.groupby('session_day')['uid'].nunique().reset_index()\n",
    "wau = visits.groupby('session_week')['uid'].nunique().reset_index()\n",
    "mau = visits.groupby('session_month')['uid'].nunique().reset_index()"
   ]
  },
  {
   "cell_type": "markdown",
   "id": "e62d1c82-db91-471c-839f-567738961a2e",
   "metadata": {},
   "source": [
    "In case the latest pandas version is used: the behavior of DatetimeProperties.to_pydatetime is deprecated. To retain the old behavior, call np.array on the result: \\\n",
    "dau = np.array(visits.groupby('session_day')['uid'].nunique()) \\\n",
    "wau = np.array(visits.groupby('session_week')['uid'].nunique()) \\\n",
    "mau = np.array(visits.groupby('session_month')['uid'].nunique())"
   ]
  },
  {
   "cell_type": "code",
   "execution_count": null,
   "id": "747654af-c50e-42be-94f1-25bc30422b2d",
   "metadata": {},
   "outputs": [],
   "source": [
    "# renaming columns\n",
    "dau.columns = ['session_day', 'number_customers']\n",
    "wau.columns = ['session_week', 'number_customers']\n",
    "mau.columns = ['session_month', 'number_customers']"
   ]
  },
  {
   "cell_type": "markdown",
   "id": "bba689dd-8079-4880-af0d-a869a2fbc9b8",
   "metadata": {},
   "source": [
    "To visualize the number of customers in dynamics, the plotly library is used."
   ]
  },
  {
   "cell_type": "code",
   "execution_count": null,
   "id": "2602b858-ed53-4cfc-b037-0229b56d0393",
   "metadata": {},
   "outputs": [],
   "source": [
    "# daily active users (DAU)\n",
    "fig_dau = px.line(dau, x='session_day', y='number_customers', title='The number of customers per day',  width=1200, height=500)\n",
    "fig_dau.update_layout(xaxis_title = 'session day', yaxis_title = 'number of customers', showlegend=False)\n",
    "fig_dau.update_traces(line_color='steelblue')\n",
    "#adding reference line with the average DAU over time\n",
    "fig_dau.add_hline(y=dau['number_customers'].mean(),line_dash=\"dash\", line_color=\"orange\", annotation_text=\"average DAU\", annotation_position=\"top left\")\n",
    "fig_dau.show()"
   ]
  },
  {
   "cell_type": "code",
   "execution_count": null,
   "id": "cc6f05dc-342f-4191-8575-1b8846237dda",
   "metadata": {},
   "outputs": [],
   "source": [
    "# weekly active users (WAU)\n",
    "fig_wau = px.line(wau,  x='session_week', y='number_customers', title='The number of customers per week',  markers=True, width=1200, height=500)\n",
    "fig_wau.update_layout(xaxis_title = 'session week', yaxis_title = 'number of customers', showlegend=False)\n",
    "fig_wau.update_traces(line_color='steelblue')\n",
    "#adding reference line with the average WAU over time\n",
    "fig_wau.add_hline(y=wau['number_customers'].mean(),line_dash=\"dash\", line_color=\"orange\", annotation_text=\"average WAU\", annotation_position=\"top left\")\n",
    "fig_wau.show()"
   ]
  },
  {
   "cell_type": "code",
   "execution_count": null,
   "id": "dfd253ea-5bd0-466f-a1de-3debad4841c9",
   "metadata": {},
   "outputs": [],
   "source": [
    "# monthly active users (MAU)\n",
    "fig_mau = px.line(mau, x='session_month', y='number_customers', title='The number of customers per month', markers=True,  width=1200, height=500)\n",
    "fig_mau.update_layout(xaxis_title = 'session month', yaxis_title = 'number of customers', showlegend=False)\n",
    "fig_mau.update_traces(line_color='steelblue')\n",
    "#adding reference line with the average MAU over time\n",
    "fig_mau.add_hline(y=mau['number_customers'].mean(),line_dash=\"dash\", line_color=\"orange\", annotation_text=\"average MAU\", annotation_position=\"top left\")\n",
    "fig_mau.show()"
   ]
  },
  {
   "cell_type": "markdown",
   "id": "dc5c29e6-a96d-4b9a-9a21-43ce4eeba523",
   "metadata": {},
   "source": [
    "<h3>Conclusions</h3> <a id='conclusions_4'></a>\n",
    "\n",
    "* On average, 908 people visit the website daily, 5724 per week, and 23228 per month.\n",
    "* The daily number of users stays below average from June until the end of September and from the end of March until the end of May.\n",
    "* From October until the end of March the amount of users stays above average.\n",
    "* The peak number of customers visiting the website was during 2 days: on the 24th of November 2017 and the 31st of May 2018. \\\n",
    "  This can be due to events that took place on these days (e.g. popular artists performances).\n",
    "\n",
    "* More customers visit the website during autumn and winter months. \\\n",
    "  This can be due to seasonal conditions, when people tend to spend more time on indoor activities rather than being outside.\n",
    "* In spring the activity starts to decrease, with the least number of active users during summer time. \\\n",
    "  This can be explained by seasonal conditions as well, when people prefer outdoor activities and go on vacations.\n",
    "\n",
    "[Back to Contents](#back)"
   ]
  },
  {
   "cell_type": "markdown",
   "id": "a2ec611a-4738-45af-85d9-231ec5b37d1c",
   "metadata": {},
   "source": [
    "<h3>2.1.2. number of sessions per day</h3> <a id='sessions'></a>"
   ]
  },
  {
   "cell_type": "markdown",
   "id": "e13abb87-74d9-4152-80f1-51c73ad40661",
   "metadata": {},
   "source": [
    "How many sessions are there per day? \\\n",
    "One user might have more than one session."
   ]
  },
  {
   "cell_type": "code",
   "execution_count": null,
   "id": "f6b5be72-1371-4316-b13c-ad989e8bcf1f",
   "metadata": {},
   "outputs": [],
   "source": [
    "# calculating the number of sessions per day\n",
    "sessions_per_day = visits.groupby(['session_day'])['uid'].count().reset_index()\n",
    "sessions_per_day.columns = ['session_day', 'number_sessions']\n",
    "display(sessions_per_day)"
   ]
  },
  {
   "cell_type": "markdown",
   "id": "4b659616-5621-4381-9914-a32b634484b8",
   "metadata": {},
   "source": [
    "To visualize the number of sessions per day, the plotly line chart is used."
   ]
  },
  {
   "cell_type": "code",
   "execution_count": null,
   "id": "a0a1188e-9876-47e0-8815-9a520b2fbfce",
   "metadata": {},
   "outputs": [],
   "source": [
    "fig_sd = px.line(sessions_per_day, x='session_day', y='number_sessions', title='The number of sessions per day', width=1200, height=500)\n",
    "fig_sd.update_layout(xaxis_title = 'session day', yaxis_title = 'number of sessions per day', showlegend=False)\n",
    "fig_sd.update_traces(line_color='steelblue')\n",
    "#adding reference line with the average number of sessions per day over time\n",
    "fig_sd.add_hline(y=sessions_per_day['number_sessions'].mean(),line_dash=\"dash\", line_color=\"orange\", annotation_text=\"average number of sessions\", annotation_position=\"top left\")\n",
    "fig_sd.show()"
   ]
  },
  {
   "cell_type": "markdown",
   "id": "861b3be1-f87d-417b-add0-6c0ef052213f",
   "metadata": {},
   "source": [
    "To check how the number of sessions per day correlates with the number of unique visitors per day, the 2 line graphs are plotted together."
   ]
  },
  {
   "cell_type": "code",
   "execution_count": null,
   "id": "dc6fda6c-f5c0-4325-ba48-c776084883f1",
   "metadata": {},
   "outputs": [],
   "source": [
    "# comparing the number of sessions per day with the number of unique visitors per day\n",
    "fig_dau_sessions = px.line(dau, x='session_day', y=[dau['number_customers'], sessions_per_day['number_sessions']], title='The number of sessions per day vs DAU', width=1200, height=500)\n",
    "fig_dau_sessions.update_layout(xaxis_title = 'session day', yaxis_title = 'number of visitors / sessions')\n",
    "fig_dau_sessions.update_traces({'name': 'number of visitors'}, selector={'name': 'number_customers'})\n",
    "fig_dau_sessions.update_traces({'name': 'number of sessions'}, selector={'name': 'wide_variable_1'})\n",
    "fig_dau_sessions.show()\n",
    "\n",
    "# --------------------------------\n",
    "# an alternative way to plot this:\n",
    "#fig = px.line(dau, x='session_day', y='number_customers', width=1200, height=500)\n",
    "#fig.update_layout(xaxis_title = 'session day', yaxis_title = 'number of customers (blue) / sessions (red)')\n",
    "#fig.add_scatter(x=sessions_per_day['session_day'], y=sessions_per_day['number_sessions'], mode='lines')\n",
    "#fig.show()"
   ]
  },
  {
   "cell_type": "code",
   "execution_count": null,
   "id": "d9ad447f-fa4c-4907-b556-6ef30ea00711",
   "metadata": {},
   "outputs": [],
   "source": [
    "# comparing the average number of sessions per day with the average number of unique visitors per day\n",
    "print('The average number of sessions per day is:', int(sessions_per_day['number_sessions'].mean()))\n",
    "print('The average number of visitors per day is:', int(dau['number_customers'].mean()))"
   ]
  },
  {
   "cell_type": "code",
   "execution_count": null,
   "id": "b3f5a957-2c07-40dd-97ce-31d48fe6651f",
   "metadata": {},
   "outputs": [],
   "source": [
    "# calculating the number of sessions per user per day\n",
    "sessions_per_user = (sessions_per_day['number_sessions'] / dau['number_customers']).reset_index()\n",
    "sessions_per_user.columns = ['session_day', 'sessions_per_user']\n",
    "display(sessions_per_user)"
   ]
  },
  {
   "cell_type": "code",
   "execution_count": null,
   "id": "d7cccb81-0ed9-411d-b5db-f68a20adbbbf",
   "metadata": {},
   "outputs": [],
   "source": [
    "# visualizing the number of sessions per user per day\n",
    "fig_ud = px.line(sessions_per_user, x='session_day', y='sessions_per_user', title='The number of sessions per user each day', width=1200, height=500)\n",
    "fig_ud.update_layout(xaxis_title = 'session day', yaxis_title = 'number of sessions per user', showlegend=False)\n",
    "fig_ud.update_traces(line_color='steelblue')\n",
    "#adding reference line with the average number of sessions per user over time\n",
    "fig_ud.add_hline(y=sessions_per_user['sessions_per_user'].mean(),line_dash=\"dash\", line_color=\"orange\", annotation_text=\"average number of sessions\", annotation_position=\"top left\")\n",
    "fig_ud.show()"
   ]
  },
  {
   "cell_type": "code",
   "execution_count": null,
   "id": "04c752e5-4c31-48bb-a72f-a8362987f903",
   "metadata": {},
   "outputs": [],
   "source": [
    "# calculating the average number of sessions per user per day\n",
    "print('The average number of sessions per user each day is:', int(sessions_per_user['sessions_per_user'].mean()))"
   ]
  },
  {
   "cell_type": "code",
   "execution_count": null,
   "id": "c8ccbb84-4e18-43f1-8fec-73cde9bb320c",
   "metadata": {},
   "outputs": [],
   "source": [
    "# exploring the distribution of the sessions number per user per day\n",
    "sessions_per_user['sessions_per_user'].describe()"
   ]
  },
  {
   "cell_type": "markdown",
   "id": "70f91755-d1d2-4b33-a009-ce83da7cfc15",
   "metadata": {},
   "source": [
    "<h3>Conclusions</h3> <a id='conclusions_5'></a>\n",
    "\n",
    "* The number of sessions per day grows steadily from August until November, then stays on the same level above average until April, and from April it drops below average until August.\n",
    "\n",
    "* The number of sessions per day follows the same seasonal pattern as the number of unique visitors per day.\n",
    "\n",
    "* Moreover,  the dynamics of total sessions per day is exactly the same as the dynamics of daily active users. \\\n",
    "  These 2 graphs almost totally coincide and their average numbers are pretty close to each other (987 and 907).\n",
    "\n",
    "* On average, a customer has 1 session a day.\n",
    "\n",
    "* The graph of the number of sessions per user per day has peaks and lows, but the range of values in only between 1 and 1.2: \\\n",
    "  the minimum number of sessions per user per day is 1, while the maximum is 1.2.\n",
    "\n",
    "* Although the number of sessions per day varies a lot, the number of sessions per user stays almost the same every day: 1 session per day.\n",
    "\n",
    "* So the peak values in the amount of sessions per day are due to the increased number of visitors on those days and not because each customer interacted more with the website (had more sessions) on these days.\n",
    "\n",
    "[Back to Contents](#back)"
   ]
  },
  {
   "cell_type": "markdown",
   "id": "34894bf0-28ef-46db-ba35-95b6016620b4",
   "metadata": {},
   "source": [
    "<h3>2.1.3. session length</h3> <a id='session_length'></a>"
   ]
  },
  {
   "cell_type": "markdown",
   "id": "2d581d70-9ec7-42f3-92b2-7174d64337ff",
   "metadata": {},
   "source": [
    "What is the length of each session?"
   ]
  },
  {
   "cell_type": "code",
   "execution_count": null,
   "id": "e89ca892-603a-4c1f-a3ec-4b6329b4f4e8",
   "metadata": {},
   "outputs": [],
   "source": [
    "# finding the length of each session\n",
    "visits['session_duration_sec'] = (visits['end_ts'] - visits['start_ts']).dt.seconds"
   ]
  },
  {
   "cell_type": "code",
   "execution_count": null,
   "id": "9883618c-0984-4632-8ee9-e7e22dadb35c",
   "metadata": {},
   "outputs": [],
   "source": [
    "# plotting a histogram to check the distribution of the session length\n",
    "visits['session_duration_sec'].hist(bins=50)"
   ]
  },
  {
   "cell_type": "markdown",
   "id": "138b2c46-8172-40e8-8a93-5c07a6a56b28",
   "metadata": {},
   "source": [
    "According to the plot, the session lengths aren't't evenly distributed. \\\n",
    "In skewed distributions, the median or mode are the best measures because they are unaffected by extreme outliers or non-symmetric distribution of values. \\\n",
    "Since here it is not a normal distribution, the average session length will be calculated using mode() instead of mean().\n",
    "\n",
    "Mean - the average value. \\\n",
    "Mode - the most common value, the value that appears most often. \\\n",
    "Median - the mid point value (can only be used on data that can be ordered)."
   ]
  },
  {
   "cell_type": "code",
   "execution_count": null,
   "id": "c7e09b98-1815-48d7-8a87-e052895ac960",
   "metadata": {},
   "outputs": [],
   "source": [
    "# finding the overall average session length and the value that appears most often in the column.\n",
    "# ASL (average session length) =  length of all sessions.mode() = (session end – session start).mode()\n",
    "asl = int(visits['session_duration_sec'].median())\n",
    "mode = int(visits['session_duration_sec'].mode())\n",
    "print('The average session length is:', asl, 'seconds.')\n",
    "print('The most common session length is:', mode, 'seconds.')"
   ]
  },
  {
   "cell_type": "code",
   "execution_count": null,
   "id": "df969e46-1685-43d7-93ad-052e4a3be310",
   "metadata": {},
   "outputs": [],
   "source": [
    "# checking the distribution of the session lenght\n",
    "visits['session_duration_sec'].describe()"
   ]
  },
  {
   "cell_type": "code",
   "execution_count": null,
   "id": "1bec7988-719b-43b0-99cc-f82ce0f4f2da",
   "metadata": {},
   "outputs": [],
   "source": [
    "# finding the average session length per day\n",
    "duration_per_day = visits.groupby(['session_day'])['session_duration_sec'].median().reset_index()\n",
    "duration_per_day.columns = ['session_day', 'session_duration']\n",
    "display(duration_per_day)"
   ]
  },
  {
   "cell_type": "code",
   "execution_count": null,
   "id": "eb119baf-51bb-4e68-8c6e-3b9a7d75d633",
   "metadata": {},
   "outputs": [],
   "source": [
    "# visualizing the average session length per day using a line chart\n",
    "fig_sl = px.line(duration_per_day, x='session_day', y='session_duration', title='The average session length per day', width=1200, height=500)\n",
    "fig_sl.update_layout(xaxis_title = 'session day', yaxis_title = 'session duration', showlegend=False)\n",
    "fig_sl.update_traces(line_color='steelblue')\n",
    "#adding reference line with the average session length\n",
    "fig_sl.add_hline(y=duration_per_day['session_duration'].mean(),line_dash=\"dash\", line_color=\"orange\", annotation_text=\"average session length\", annotation_position=\"top left\")\n",
    "fig_sl.show()"
   ]
  },
  {
   "cell_type": "markdown",
   "id": "2e6be404-b340-4822-9da5-d6e034d7ca7e",
   "metadata": {},
   "source": [
    "<h3>Conclusions</h3> <a id='conclusions_6'></a>\n",
    "\n",
    "* The session length doesn't follow normal distribution, so the median value is used for further analysis.\n",
    "* The average session lenght is not changing much over days.\n",
    "* On average, most of the time users spend between 4 and 6 minutes on a session.\n",
    "* Overall, most frequently the session lasts only 1 minute.\n",
    "\n",
    "[Back to Contents](#back)"
   ]
  },
  {
   "cell_type": "markdown",
   "id": "37e80a6a-a147-493a-890d-779e448307a1",
   "metadata": {},
   "source": [
    "<h3>2.1.4. user retention rate</h3> <a id='retention_rate'></a>"
   ]
  },
  {
   "cell_type": "markdown",
   "id": "cdbeb9af-e4e3-40fe-80e3-712ced3213d0",
   "metadata": {},
   "source": [
    "What's the user retention rate?"
   ]
  },
  {
   "cell_type": "markdown",
   "id": "8dee3439-fc82-402f-9f40-b440863ca70a",
   "metadata": {},
   "source": [
    "To calculate the user retention rate, it is necessary to form cohorts. \\\n",
    "A cohort is formed by defining the event & the period :\n",
    "* event: the date the user was first active in the app.\n",
    "* period: month, since the dataset contains data for the period of 1 year.\n",
    "\n",
    "Each customer will be assigned a month when he used the app for the first time."
   ]
  },
  {
   "cell_type": "markdown",
   "id": "ffe84479-08ce-4d96-9d36-7452154b5c3d",
   "metadata": {},
   "source": [
    "__Defining the event of the cohort by:__\n",
    "* finding the first session for each customer, and\n",
    "* storing the event in a new column in the table visits."
   ]
  },
  {
   "cell_type": "code",
   "execution_count": null,
   "id": "8acaa749-6f33-4f08-b13d-e9b26b168a40",
   "metadata": {},
   "outputs": [],
   "source": [
    "visits['first_visit'] = visits.groupby('uid')['start_ts'].transform('min')"
   ]
  },
  {
   "cell_type": "markdown",
   "id": "d9f618f0-0130-43b8-b9b3-7935d010ffa2",
   "metadata": {},
   "source": [
    "__Defining the period of the cohort by:__\n",
    "* turning the date of registration into month to understand to which cohort the customer belongs to, and\n",
    "* finding the difference between any current session and the first session to calculate the customers lifetime within the cohort."
   ]
  },
  {
   "cell_type": "code",
   "execution_count": null,
   "id": "923a28f6-7795-46c9-aad7-f97f607c1ddd",
   "metadata": {},
   "outputs": [],
   "source": [
    "visits['cohort'] = visits['first_visit'].values.astype('datetime64[M]')\n",
    "visits['lifetime'] = (visits['start_ts'].values.astype('datetime64[M]') - visits['first_visit'].values.astype('datetime64[M]')).astype(int)"
   ]
  },
  {
   "cell_type": "markdown",
   "id": "cef2e280-2f23-477c-9872-b2ec61700291",
   "metadata": {},
   "source": [
    "Alternative ways to calculate the customers lifetime:\n",
    "1. visits['lifetime'] = visits['start_ts'].dt.to_period('M').astype(int) - visits['first_visit'].dt.to_period('M').astype(int)\n",
    "2. visits['lifetime'] = ((visits['start_ts'] - visits['first_visit']) / np.timedelta64(1, 'D') / 30.4375).round().astype('int')\n",
    "\n",
    "In the latest versions NumPy doesn't support 'M' (months). \\\n",
    "As a solution:\n",
    "* the timedelta is converted to days, and\n",
    "* the number of months is calculated by dividing by the average number of days in a month 30.4375."
   ]
  },
  {
   "cell_type": "markdown",
   "id": "40466c1c-3aa8-4b3b-b8e8-65722e3adc0d",
   "metadata": {},
   "source": [
    "The retention rate can be found in 2 ways.\n",
    "\n",
    "Method 1:\n",
    "1. group the data by cohort and lifetime & find the number of active customers at a certain lifetime month for each cohort \\\n",
    "monthly_cohorts = (visits.groupby(['cohort', 'lifetime']).agg({'uid': 'nunique'}).reset_index())\n",
    "2. find the initial number of customers in each cohort (the number of customers in the 0th month) \\\n",
    "initial_count = monthly_cohorts[monthly_cohorts['lifetime'] == 0][['cohort', 'uid']]\n",
    "3. rename the uid column as cohort_customers \\\n",
    "initial_count = initial_count.rename(columns={'uid': 'cohort_customers'})\n",
    "4. join the initial number of customers in the cohort with the data on cohorts \\\n",
    "monthly_cohorts = monthly_cohorts.merge(initial_count, on='cohort')\n",
    "5. calculate the retention rate by dividing the number of customers in each lifetime month by the initial number of customers in the cohort \\\n",
    "monthly_cohorts['retention'] = monthly_cohorts['uid'] / monthly_cohorts['cohort_customers']\n",
    "6. compile a pivot table with the customers retention rate \\\n",
    "retention_pivot = monthly_cohorts.pivot_table(index='cohort', columns='lifetime', values='retention', aggfunc='sum')"
   ]
  },
  {
   "cell_type": "markdown",
   "id": "ce8e5502-0f04-4e86-b8ad-d47f17623ccf",
   "metadata": {},
   "source": [
    "Method 2 (is used here):\n",
    "1. compile a pivot table (cohort_pivot) with the number of unique customers per each cohort for every lifetime value\n",
    "2. calculate the retention rate by dividing the number of customers in each lifetime month by the initial number of customers in the cohort:\n",
    "    * the column lifetime=0 (cohort_pivot[0]) includes the initial number of customers registered in a cohort\n",
    "        * axis=0 performs the action (division) per row\n",
    "    * the other columns with the lifetime values (cohort_pivot.iloc[:,0:]) show the number of customers in each lifetime month\n",
    "        * df.iloc[:,0:] selects all rows and columns, except for the column 0.\n",
    "    * retention rate = the number of unique customers in each month / the initial number of customers in the cohort * 100%"
   ]
  },
  {
   "cell_type": "code",
   "execution_count": null,
   "id": "e24c16c7-5df1-4a1e-ba3b-86ae49975171",
   "metadata": {},
   "outputs": [],
   "source": [
    "cohort_pivot = visits.pivot_table(index='cohort', columns='lifetime', values='uid', aggfunc='nunique')\n",
    "retention_rate = cohort_pivot.iloc[:,0:].div(cohort_pivot[0], axis=0)*100"
   ]
  },
  {
   "cell_type": "markdown",
   "id": "998ea5e8-b9c1-4dc7-980a-2d0b900d752f",
   "metadata": {},
   "source": [
    "An alternative way to create the cohort table & calculate the retention rates: \\\n",
    "cohort_table = pd.crosstab(visits['cohort'], visits['lifetime'], values=visits['uid'], aggfunc='nunique') \\\n",
    "retention_rates = cohort_table.divide(cohort_table.iloc[:, 0], axis=0) * 100"
   ]
  },
  {
   "cell_type": "markdown",
   "id": "aa220d49-f4ed-43f1-bba3-6f5e615b21f2",
   "metadata": {},
   "source": [
    "To visualize the retention rate, the seaborn and matplotlib libraries are used."
   ]
  },
  {
   "cell_type": "code",
   "execution_count": null,
   "id": "3a5d13f7-278b-4dcf-9841-967e6b8a7c16",
   "metadata": {},
   "outputs": [],
   "source": [
    "plt.figure(figsize=(10, 8))\n",
    "plt.title('Customer retention rate')\n",
    "retention_rate.index=retention_rate.index.astype(str)\n",
    "sns.heatmap(retention_rate, annot=True, fmt='.1f', linewidths=1, linecolor='grey', vmax=10, cbar_kws= {'orientation': 'horizontal'})\n",
    "plt.show()"
   ]
  },
  {
   "cell_type": "markdown",
   "id": "cd26f704-a6ff-44f1-b967-848469106c02",
   "metadata": {},
   "source": [
    "<h3>Conclusions</h3> <a id='conclusions_7'></a>\n",
    "\n",
    "* The retention rate shows how many customers come back. \\\n",
    "  It is a percentage of those who returned from those who registered. \\\n",
    "  To calculate it:\n",
    "    * the customers were grouped into monthly cohorts, based on the date of their first visit,\n",
    "    * the heatmap was used to visualize how many users were active on a certain month after the first visit.\n",
    "\n",
    "\n",
    "* The cohort from September shows the highest retention both on the 1st and the 2nd months.\n",
    "\n",
    "* Starting from the 4th month, the June cohort keeps the leading position in retention.\n",
    "\n",
    "* Winter and spring cohorts have a lower retention rate compared to summer and autumn cohorts. \\\n",
    "  Probably, people who start using the website services in winter and spring are occasional users who want to find an extra activity due to reduced outdoor activities at those months, while those who started using the services during summer and autumn are explicitly interested in such events, so their activity does not depend on the time of the year.\n",
    "\n",
    "* Overall, the retention rate drops as customer’s lifetime increases. But there are 2 tendencies here:\n",
    "    * for summer cohorts the rate reduces twice by the end of cohorts lifetime\n",
    "    * for other cohorts the rate drops 3-4 times by the end of their lifetime\n",
    "\n",
    "[Back to Contents](#back)"
   ]
  },
  {
   "cell_type": "markdown",
   "id": "ce862e72-9f38-4455-b9e2-ec266e43e142",
   "metadata": {},
   "source": [
    "<h2>Product summary</h2> <a id='summary_2'></a>\n",
    "\n",
    "1. On average, 908 people visit the website daily, 5724 per week, and 23228 per month.\n",
    "2. The peak number of visitors was during 2 days: on the 24th of November 2017 and the 31st of May 2018.\n",
    "3. The weekly amount of users stays above average from October until the end of March.\n",
    "4. The number of monthly visits has seasonal effect: lots of customers during autumn and winter months, less in spring, and the least number in summer.\n",
    "5. On average, a customer has 1 session per day.\n",
    "6. The number of sessions per day follows exactly the same seasonal pattern as the number of visitors per day.\n",
    "7. Most frequently the session lasts only 1 minute.\n",
    "8. On average, a user spends between 4 and 6 minutes on a session.\n",
    "9. The average session lenght is not changing much over time.\n",
    "10. The September cohort has the highest retention both on the 1st and the 2nd months.\n",
    "11. The June cohort takes the leading position in retention starting from the 4th month.\n",
    "12. Winter and spring cohorts have a lower retention rate compared to summer and autumn cohorts.\n",
    "13. The retention rate drops as customer’s lifetime increases, with 2 tendencies here:\n",
    "    * for summer cohorts the rate reduces twice by the end of cohorts lifetime\n",
    "    * for other cohorts the rate drops 3-4 times by the end of their lifetime\n",
    "\n",
    "[Back to Contents](#back)"
   ]
  },
  {
   "cell_type": "markdown",
   "id": "2b959d57-aba9-4e78-9850-3be3cf663725",
   "metadata": {},
   "source": [
    "<h2>2.2. Sales</h2> <a id='sales'></a>"
   ]
  },
  {
   "cell_type": "markdown",
   "id": "3319bf06-02d3-4a9d-9aab-d0ea35654442",
   "metadata": {},
   "source": [
    "<h3>2.2.1. cohorts conversions</h3> <a id='cohorts_conversions'></a>"
   ]
  },
  {
   "cell_type": "markdown",
   "id": "9fa1f256-25f7-413c-8fd7-ef9fce09f72a",
   "metadata": {},
   "source": [
    "When do people start buying? (In KPI analysis, we're usually interested in knowing the time that elapses between registration and conversion — when the user becomes a customer. For example, if registration and the first purchase occur on the same day, the user might fall into category Conversion 0d. If the first purchase happens the next day, it will be Conversion 1d. You can use any approach that lets you compare the conversions of different cohorts, so that you can determine which cohort, or marketing channel, is most effective.)"
   ]
  },
  {
   "cell_type": "markdown",
   "id": "df204c9b-d1bf-483a-be8a-5ca709654a73",
   "metadata": {},
   "source": [
    "<h4>2.2.1.1. conversion</h4> <a id='conversion'></a>"
   ]
  },
  {
   "cell_type": "markdown",
   "id": "b61d3bcf-6285-43b1-8a5e-4b6d76ca26ec",
   "metadata": {},
   "source": [
    "How long it takes from the first visit (registration) to the purchase in days. \\\n",
    "To find the conversion time, it is necessary to:\n",
    "* find the date of the first visit for each customer (from the table visits)\n",
    "* find the date of the first order for each customer (from the table orders)\n",
    "* merge this data together\n",
    "* calculate the conversion"
   ]
  },
  {
   "cell_type": "code",
   "execution_count": null,
   "id": "adfe10f9-5821-4a03-9e42-55140e554001",
   "metadata": {},
   "outputs": [],
   "source": [
    "# finding the date of the first visit for each customer\n",
    "first_visit = visits.groupby('uid')['start_ts'].min().reset_index()\n",
    "first_visit.columns = ['uid', 'first_visit']\n",
    "first_visit.head()"
   ]
  },
  {
   "cell_type": "code",
   "execution_count": null,
   "id": "7d8049bd-bfe8-452e-b7cf-297eefcb578a",
   "metadata": {},
   "outputs": [],
   "source": [
    "# finding the date of the first order for each customer\n",
    "first_order = orders.groupby('uid')['buy_ts'].min().reset_index()\n",
    "first_order.columns = ['uid', 'first_order']\n",
    "first_order.head()"
   ]
  },
  {
   "cell_type": "code",
   "execution_count": null,
   "id": "94b3047a-1d99-4453-b392-194d4fbb2807",
   "metadata": {},
   "outputs": [],
   "source": [
    "# merging these 2 tables together\n",
    "purchases = first_order.merge(first_visit, how='left',on=['uid'])\n",
    "purchases.head()"
   ]
  },
  {
   "cell_type": "code",
   "execution_count": null,
   "id": "5119517f-0c94-402e-9ec3-26e4fd81549a",
   "metadata": {},
   "outputs": [],
   "source": [
    "# checking if merging did not create duplicated rows \n",
    "purchases.duplicated().sum()"
   ]
  },
  {
   "cell_type": "code",
   "execution_count": null,
   "id": "23e93970-5663-4aa6-9690-7502dcb5df0e",
   "metadata": {},
   "outputs": [],
   "source": [
    "# calculating the conversion time\n",
    "purchases['conversion'] = ((pd.to_datetime(purchases['first_order']) - pd.to_datetime(purchases['first_visit'])) / np.timedelta64(1,'D')).astype('int')\n",
    "purchases.head()"
   ]
  },
  {
   "cell_type": "code",
   "execution_count": null,
   "id": "6fe07ef5-0059-4b24-9410-eac04bfd3208",
   "metadata": {},
   "outputs": [],
   "source": [
    "# plotting a histogram to check the distribution of the conversion time\n",
    "purchases['conversion'].hist(bins=20)"
   ]
  },
  {
   "cell_type": "markdown",
   "id": "62c2d465-39db-4691-a5fb-cfb626df3940",
   "metadata": {},
   "source": [
    "According to the histogram, the conversion isn't evenly distributed. \\\n",
    "Since this is not a normal distribution, the average conversion will be calculated using mode() instead of mean()."
   ]
  },
  {
   "cell_type": "code",
   "execution_count": null,
   "id": "2fc638ed-bcc0-4f8d-ad62-f9a15344eba7",
   "metadata": {},
   "outputs": [],
   "source": [
    "conversion = purchases['conversion'].mode()\n",
    "print('The average conversion is:', conversion.item())"
   ]
  },
  {
   "cell_type": "markdown",
   "id": "99da4f7c-0405-44b3-a3a1-f567734f6bb1",
   "metadata": {},
   "source": [
    "On average it takes 0 days to convert a customer into a buyer."
   ]
  },
  {
   "cell_type": "code",
   "execution_count": null,
   "id": "62ad7437-8d32-4470-8ec9-355be483aa6b",
   "metadata": {},
   "outputs": [],
   "source": [
    "purchases['conversion'].value_counts().reset_index()"
   ]
  },
  {
   "cell_type": "code",
   "execution_count": null,
   "id": "2e1a61b6-367b-4ab4-861f-3538dd85d63e",
   "metadata": {},
   "outputs": [],
   "source": [
    "purchases['conversion'].describe()"
   ]
  },
  {
   "cell_type": "markdown",
   "id": "bb96df20-afb8-4488-9693-fbd90c49f9f1",
   "metadata": {},
   "source": [
    "[Back to Contents](#back)"
   ]
  },
  {
   "cell_type": "markdown",
   "id": "388cde03-f0a8-4087-8a74-5f5af9a7ebc3",
   "metadata": {},
   "source": [
    "<h4>2.2.1.2. conversion time per marketing channel</h4> <a id='conversion_time'></a>"
   ]
  },
  {
   "cell_type": "markdown",
   "id": "2ff632e7-8a1c-4ce0-b959-cc48c69c9703",
   "metadata": {},
   "source": [
    "To explore the conversion time of different marketing channels:\n",
    "* a table first_visit_source is created with the first time the user came from the ad source,\n",
    "* the table first_visit_source is merged with the table purchases to add the column with the ad source identifier,\n",
    "* the data is grouped by the ad source,\n",
    "* found the total amount of days needed for each marketing channel to convert a client."
   ]
  },
  {
   "cell_type": "code",
   "execution_count": null,
   "id": "8ff2aff7-b2ac-49e3-bae9-9d039060cdd0",
   "metadata": {},
   "outputs": [],
   "source": [
    "first_visit_source = visits.groupby(['uid', 'source_id'])['start_ts'].min().reset_index()\n",
    "first_visit_source.columns = ['uid', 'source_id', 'first_visit']\n",
    "first_visit_source.head()"
   ]
  },
  {
   "cell_type": "code",
   "execution_count": null,
   "id": "8426a195-d681-4da2-b074-cad77db71fed",
   "metadata": {},
   "outputs": [],
   "source": [
    "conversion_ad_source = purchases.merge(first_visit_source, on=['uid', 'first_visit'], how='left')\n",
    "conversion_ad_source.head()"
   ]
  },
  {
   "cell_type": "code",
   "execution_count": null,
   "id": "5cfe9bac-b141-44df-ba02-fe743fef5cd9",
   "metadata": {},
   "outputs": [],
   "source": [
    "# checking if merging did not create duplicated rows \n",
    "conversion_ad_source.duplicated().sum()"
   ]
  },
  {
   "cell_type": "code",
   "execution_count": null,
   "id": "780fd5ff-3768-4f7f-ab0f-a19e7b91c0a0",
   "metadata": {},
   "outputs": [],
   "source": [
    "days_per_source = conversion_ad_source.groupby('source_id')['conversion'].sum().reset_index()\n",
    "days_per_source.columns = ['source_id', 'conversion']\n",
    "days_per_source"
   ]
  },
  {
   "cell_type": "code",
   "execution_count": null,
   "id": "b74efe4a-25bf-485d-9a2b-03ac17b085ee",
   "metadata": {},
   "outputs": [],
   "source": [
    "# # plotting a bar chart to show the distribution of the conversion time per ad source\n",
    "fig_source = px.bar(days_per_source, x='source_id', y='conversion', title='The duration of conversion per ad source', width=1200, height=500)\n",
    "fig_source.update_layout(xaxis_title = 'ad source identifier', yaxis_title = 'number of days', showlegend=False, xaxis = dict(tickmode = 'linear', dtick = 1))\n",
    "fig_source.update_traces(marker_color='steelblue')\n",
    "fig_source.show()"
   ]
  },
  {
   "cell_type": "markdown",
   "id": "1e15b62a-6ab8-4f02-b440-1bb3e8925599",
   "metadata": {},
   "source": [
    "It looks like the marketing channels 3 and 4 take the longest time to convert visitors to buyers. \\\n",
    "But to understand the real conversion time per marketing channel it is necessary to:\n",
    "* find the total number of ads per marketing channel\n",
    "* compare the conversion length with the number of ads per each channel to see how long it takes each channel to convert a user."
   ]
  },
  {
   "cell_type": "code",
   "execution_count": null,
   "id": "9d615e96-e760-4662-ae2c-7720c2fddc81",
   "metadata": {},
   "outputs": [],
   "source": [
    "# checking how often each ad source is represented in the dataframe\n",
    "ad = conversion_ad_source['source_id'].value_counts().reset_index()\n",
    "ad.columns = ['source_id', 'number_ads']\n",
    "ad"
   ]
  },
  {
   "cell_type": "code",
   "execution_count": null,
   "id": "183bd3d7-0de1-456b-acfc-d0adfb1e36b2",
   "metadata": {},
   "outputs": [],
   "source": [
    "fig_ad = px.bar(ad, x='source_id', y='number_ads',title='The number of ads per source', width=1200, height=500)\n",
    "fig_ad.update_layout(xaxis_title = 'ad source identifier', yaxis_title = 'number of ads', showlegend=False, xaxis = dict(tickmode = 'linear', dtick = 1))\n",
    "fig_ad.update_traces(marker_color='steelblue')\n",
    "fig_ad.show()"
   ]
  },
  {
   "cell_type": "code",
   "execution_count": null,
   "id": "684c5e96-223e-4cfa-8ea1-37edb31f1ed9",
   "metadata": {},
   "outputs": [],
   "source": [
    "conversion_channels = days_per_source.merge(ad, on=['source_id'], how='left')\n",
    "conversion_channels"
   ]
  },
  {
   "cell_type": "code",
   "execution_count": null,
   "id": "f73f4611-82ef-4b86-9755-4112a60a513d",
   "metadata": {},
   "outputs": [],
   "source": [
    "# Create figure\n",
    "fig = plt.figure()\n",
    "ax = fig.add_subplot()\n",
    "\n",
    "# Define multiple bar charts\n",
    "ax.bar(x=conversion_channels['source_id'], height=conversion_channels['conversion'], width=0.8, align='center', label='conversion length')\n",
    "ax.bar(x=conversion_channels['source_id'], height=conversion_channels['number_ads'], width=0.8/2, align='center', label='number ads')\n",
    "\n",
    "# Define x-ticks\n",
    "plt.xticks(conversion_channels['source_id'].unique())\n",
    "\n",
    "# Display the plot\n",
    "plt.xlabel('ad source identifier')\n",
    "plt.ylabel('conversion / number of ads')\n",
    "ax.legend(loc=\"upper right\")\n",
    "plt.title(\"Conversion vs number of ads per channel\")\n",
    "plt.show()\n",
    "\n",
    "# ------------------------------------\n",
    "# 1st alternative way to visualize it:\n",
    "# import plotly.graph_objects as go\n",
    "# fig = go.Figure([go.Bar(\n",
    "#            x=both['source_id'], y=both['conversion'], name=\"conversion\", marker_color=\"IndianRed\"), go.Bar(\n",
    "#            x=both['source_id'], y=both['count'], name=\"number of ads\", marker_color=\"LightSalmon\")], layout = go.Layout(barmode='overlay'))\n",
    "# fig.update_layout(title = \"Conversion vs Number per Ad Source\")\n",
    "# fig.show()\n",
    "\n",
    "# 2nd alternative way to visualize it:\n",
    "# days = days_per_source\n",
    "# ads = ad\n",
    "# indices = conversion_ad_source['source_id'].unique()\n",
    "# width = 0.8\n",
    "# plt.bar(indices, days, width=width, color='b', label='conversion in days')\n",
    "# plt.bar([i+0.25*width for i in indices], ads, width=0.5*width, color='r', alpha=0.5, label='number of ads')"
   ]
  },
  {
   "cell_type": "code",
   "execution_count": null,
   "id": "a425e6cc-6dd5-41f5-89b7-0bd9ce62b0e6",
   "metadata": {},
   "outputs": [],
   "source": [
    "conversion_channels['days_per_channel']=conversion_channels['conversion'] / conversion_channels['number_ads']\n",
    "conversion_channels"
   ]
  },
  {
   "cell_type": "code",
   "execution_count": null,
   "id": "d3a8f3c6-e8a1-4d96-a56a-c99c4cc704fa",
   "metadata": {},
   "outputs": [],
   "source": [
    "print('The number of visitors per ad source 6 is:', visits[visits['source_id']==6]['uid'].count())\n",
    "print('The number of visitors per ad source 7 is:', visits[visits['source_id']==7]['uid'].count())\n",
    "print('The number of visitors per ad source 8 is:', visits[visits['source_id']==8]['uid'].count())"
   ]
  },
  {
   "cell_type": "markdown",
   "id": "3c0aea69-8a70-4431-9daf-8e428575d8aa",
   "metadata": {},
   "source": [
    "[Back to Contents](#back)"
   ]
  },
  {
   "cell_type": "markdown",
   "id": "6fe30620-d520-447b-a412-2270e9295f25",
   "metadata": {},
   "source": [
    "<h4>2.2.1.3. conversion rate</h4> <a id='conversion_rate'></a>"
   ]
  },
  {
   "cell_type": "markdown",
   "id": "85bb1589-16e9-41d7-8db5-94b3f363e301",
   "metadata": {},
   "source": [
    "The share of people who change their status, e.g. the share of website visitors that become actual buyers. \\\n",
    "conversion rate = buyers / visitors * 100%"
   ]
  },
  {
   "cell_type": "code",
   "execution_count": null,
   "id": "c19c399a-34a3-48cd-840d-e3a125e27352",
   "metadata": {},
   "outputs": [],
   "source": [
    "# calculating how many customers converted in total\n",
    "conversion_rate = purchases['uid'].nunique() / visits['uid'].nunique()\n",
    "print('The overall conversion rate is: {:.1%}'.format(conversion_rate))"
   ]
  },
  {
   "cell_type": "markdown",
   "id": "5eca0d6c-817c-4d81-a122-891217d2c7e8",
   "metadata": {},
   "source": [
    "[Back to Contents](#back)"
   ]
  },
  {
   "cell_type": "markdown",
   "id": "449e97a8-f346-422b-9105-450bd3bc49af",
   "metadata": {},
   "source": [
    "<h4>2.2.1.4. conversion rate per marketing channel</h4> <a id='conversion_channel'></a>"
   ]
  },
  {
   "cell_type": "markdown",
   "id": "400de2d3-b04b-4c63-9df8-0509c125e501",
   "metadata": {},
   "source": [
    "Steps to find the conversion rate of different marketing channels:\n",
    "* calculate the share of visitors per ad channel\n",
    "* calculate the share of buyers per ad channel\n",
    "* merge two tables together and find the conversion rate per ad channel"
   ]
  },
  {
   "cell_type": "code",
   "execution_count": null,
   "id": "eb3b4440-4908-414c-a8c5-09f7c0409228",
   "metadata": {},
   "outputs": [],
   "source": [
    "visitors_per_channel=visits.groupby('source_id')['uid'].nunique().reset_index()\n",
    "visitors_per_channel.columns = ['source_id', 'number_visitors']\n",
    "visitors_per_channel"
   ]
  },
  {
   "cell_type": "code",
   "execution_count": null,
   "id": "12c6e6d6-61fb-4795-83ee-c0306b72fb5e",
   "metadata": {},
   "outputs": [],
   "source": [
    "buyers_per_channel=conversion_ad_source.groupby('source_id')['uid'].nunique().reset_index()\n",
    "buyers_per_channel.columns = ['source_id', 'number_buyers']\n",
    "buyers_per_channel"
   ]
  },
  {
   "cell_type": "code",
   "execution_count": null,
   "id": "6d6bffe0-47c8-4878-843b-b45b1d94fa2e",
   "metadata": {},
   "outputs": [],
   "source": [
    "conversion_rate_channel = buyers_per_channel.merge(visitors_per_channel, on=['source_id'], how='left')\n",
    "conversion_rate_channel"
   ]
  },
  {
   "cell_type": "code",
   "execution_count": null,
   "id": "2507be3a-c14e-4f71-8da8-a27c2c65ad41",
   "metadata": {},
   "outputs": [],
   "source": [
    "conversion_rate_channel['conversion_rate_per_channel'] = conversion_rate_channel['number_buyers'] / conversion_rate_channel['number_visitors'] * 100\n",
    "conversion_rate_channel"
   ]
  },
  {
   "cell_type": "code",
   "execution_count": null,
   "id": "41eb55f6-606e-4064-9de7-fda7f015c65e",
   "metadata": {},
   "outputs": [],
   "source": [
    "fig_crc = px.bar(conversion_rate_channel, x='source_id', y='conversion_rate_per_channel', title='Conversion rate per channel', width=1200, height=500)\n",
    "fig_crc.update_layout(xaxis_title = 'ad source', yaxis_title = 'conversion rate', showlegend=False, xaxis = dict(tickmode = 'linear', dtick = 1))\n",
    "fig_crc.update_traces(marker_color='steelblue')\n",
    "fig_crc.show()"
   ]
  },
  {
   "cell_type": "markdown",
   "id": "b9e566ba-d360-456c-a71a-9c75d2a1ab86",
   "metadata": {},
   "source": [
    "<h3>Conclusions</h3> <a id='conclusions_8'></a>\n",
    "\n",
    "* __Conversion:__\n",
    "    * On average it takes 0 days to convert a customer into a buyer from his first visit until the purchase.\n",
    "    * 75% of customers are converted within 2 days.\n",
    "\n",
    "* __Conversion time of marketing channels:__\n",
    "    * At first glance, it takes marketing channels 3 and 4 the longest to convert customers.\n",
    "    * But further exploration of the data showed that:\n",
    "        * The total convertion time strongly correlates with the number of ads per channel.\n",
    "        * The marketing channel 9 requires the longest time to convert customers into buyers, followed by channels 2 and 4.\n",
    "        * The marketing channels 1 and 10 take the least time to convert customers into buyers.\n",
    "        * The marketing channels 6 and 8 do not lead to customer conversion at all.\n",
    "        * The marketing channel 7 led to only 1 conversion.\n",
    "        * Moreover, the channels 6, 7, 8 are not represented in the table expenses at all and poorly represented in the table visits: \\\n",
    "          the number of visitors per ad source 7 is 36, for ad source 6 it is only 6 and 0 visitors per ad channel 8. \\\n",
    "          It can be that these channels are new and are just beginning to be implemented by the marketing department, so there is almost no data on them yet.\n",
    "\n",
    "* __Conversion rate:__\n",
    "    * Overall, 16% of users are converted into buyers.\n",
    "\n",
    "* __Conversion rate per marketing channel:__\n",
    "    * The ad source 10 shows the best conversion rate, followed by channels 1, 3 and 2. \n",
    "    * The channel 9 has the lowest conversion rate.\n",
    "    * The ad source 7 is not taken into account since there is not enough data for it.\n",
    "\n",
    "[Back to Contents](#back)"
   ]
  },
  {
   "cell_type": "markdown",
   "id": "82813ce2-adb0-4c22-8d88-b2c0ced7e62e",
   "metadata": {},
   "source": [
    "<h3>2.2.2. number of orders</h3> <a id='number_orders'></a>"
   ]
  },
  {
   "cell_type": "markdown",
   "id": "affccf58-7903-43b8-9f58-aad5db56050e",
   "metadata": {},
   "source": [
    "How many orders do customers make during a given period of time?"
   ]
  },
  {
   "cell_type": "markdown",
   "id": "69c30843-17d3-45e2-867f-d8600f83dd47",
   "metadata": {},
   "source": [
    "Steps:\n",
    "* find the date of the first order for each customer\n",
    "* form cohorts by month\n",
    "* find the lifetime for each order within the cohort\n",
    "* find the number of customers per cohort (per first order month)\n",
    "* find the number of orders per cohort (first order month) and lifetime (all subsequent months)\n",
    "* find the number of orders per customer per cohort and lifetime\n",
    "* find the cumulative number of orders per customer at each lifetime for each cohort"
   ]
  },
  {
   "cell_type": "code",
   "execution_count": null,
   "id": "ace5edba-4baf-4acb-aef3-7f3733845a54",
   "metadata": {},
   "outputs": [],
   "source": [
    "# creating a separate column for the month of the purchase\n",
    "orders['order_month'] = orders['buy_ts'].values.astype('datetime64[M]')"
   ]
  },
  {
   "cell_type": "code",
   "execution_count": null,
   "id": "9816d651-4684-4769-b836-99676ee46712",
   "metadata": {},
   "outputs": [],
   "source": [
    "# finding the date of the first order for each customer\n",
    "orders['first_order'] = orders.groupby(['uid'])['buy_ts'].transform('min')"
   ]
  },
  {
   "cell_type": "code",
   "execution_count": null,
   "id": "88c763e5-d60b-478a-91e1-e52e3c9e9cb1",
   "metadata": {},
   "outputs": [],
   "source": [
    "# defining cohort month through the first purchase\n",
    "orders['first_order_month'] = orders['first_order'].values.astype('datetime64[M]')"
   ]
  },
  {
   "cell_type": "code",
   "execution_count": null,
   "id": "e6c47a86-0ecc-4d63-ac2e-40664c80a959",
   "metadata": {},
   "outputs": [],
   "source": [
    "# finding the lifetime in months for each order within the cohort\n",
    "orders['lifetime'] = (orders['order_month'].values.astype('datetime64[M]') - orders['first_order_month'].values.astype('datetime64[M]')).astype(int)\n",
    "orders.head()"
   ]
  },
  {
   "cell_type": "code",
   "execution_count": null,
   "id": "ac30cdb1-97e9-449c-b6d3-4dca2a022a92",
   "metadata": {},
   "outputs": [],
   "source": [
    "# calculating the number of customers per each cohort (cohort size)\n",
    "cohort_customers = orders.groupby('first_order_month').agg({'uid': 'nunique'}).reset_index()\n",
    "cohort_customers.columns=['first_order_month','cohort_size']\n",
    "cohort_customers"
   ]
  },
  {
   "cell_type": "code",
   "execution_count": null,
   "id": "be6bab15-a02c-4aa1-b94a-426e5ca3ed1f",
   "metadata": {},
   "outputs": [],
   "source": [
    "# calculating the number of orders per cohort and lifetime\n",
    "cohort_orders = orders.groupby(['first_order_month','lifetime'])['revenue'].count().reset_index()\n",
    "cohort_orders.columns = ['first_order_month','lifetime','number_orders']\n",
    "cohort_orders"
   ]
  },
  {
   "cell_type": "code",
   "execution_count": null,
   "id": "4c4502b1-fba5-45d1-918d-39ca71c57af1",
   "metadata": {},
   "outputs": [],
   "source": [
    "# calculating the number of orders per customer per cohort and lifeitme\n",
    "orders_per_buyer = cohort_orders.merge(cohort_customers, on=['first_order_month'], how='left')\n",
    "orders_per_buyer['orders_per_buyer'] = orders_per_buyer['number_orders'] / orders_per_buyer['cohort_size']\n",
    "orders_per_buyer.head()"
   ]
  },
  {
   "cell_type": "code",
   "execution_count": null,
   "id": "181c692e-976f-4090-9ec5-c718d671a0b7",
   "metadata": {},
   "outputs": [],
   "source": [
    "# creating a pivot table to do cohort analysis on the number of orders per customer\n",
    "cohort_pivot=orders_per_buyer.pivot_table(index='first_order_month', columns='lifetime', values='orders_per_buyer', aggfunc='sum')\n",
    "cohort_pivot.round(2).fillna('')"
   ]
  },
  {
   "cell_type": "code",
   "execution_count": null,
   "id": "7c497861-8827-419e-adfd-b5e6d5eaf52e",
   "metadata": {},
   "outputs": [],
   "source": [
    "# using cumsum on a pivot table\n",
    "# to see how many orders customers made up to a certain lifetime month (and not in a certain month)\n",
    "# for easier comparison of cohort behavior\n",
    "cohort_pivot=orders_per_buyer.pivot_table(index='first_order_month', columns='lifetime', values='orders_per_buyer', aggfunc='sum').cumsum(axis=1)\n",
    "cohort_pivot.round(2).fillna('')"
   ]
  },
  {
   "cell_type": "code",
   "execution_count": null,
   "id": "06c4492a-9298-4c69-9300-90a41e61e11a",
   "metadata": {},
   "outputs": [],
   "source": [
    "# visualizing the cumulative number of orders per customer per cohort using heatmap\n",
    "cohort_pivot.index = cohort_pivot.index.astype(str)\n",
    "plt.figure(figsize=(10, 8))\n",
    "sns.heatmap(cohort_pivot, annot=True, fmt='.2f', linewidths=1, linecolor='grey', cbar_kws= {'orientation': 'horizontal'}).set(title ='Cumulative number of orders per customer per cohort')\n",
    "plt.show()"
   ]
  },
  {
   "cell_type": "markdown",
   "id": "b1de8486-a996-446e-9d27-38e0f1be0e49",
   "metadata": {},
   "source": [
    "<h3>Conclusions</h3> <a id='conclusions_9'></a>\n",
    "\n",
    "* To find how many orders customers make during a given period of time, the cohort analysis was used:\n",
    "    * a cohort was defined by the month of the first order,\n",
    "    * the data was aggregated for each cohort: the lifetime for each order, the number of orders and unique customers,\n",
    "    * the number of orders per customer was calculated for each cohort and each month.\n",
    "\n",
    "\n",
    "* At the 0th lifetime, the average amount of orders per customer is 1.\n",
    "\n",
    "* After the 0th lifetime, the number of orders drops significantly for each cohort for all subsequent months.\n",
    "\n",
    "* June, November and March cohorts have the highest amount of orders at the 0th lifetime.\n",
    "\n",
    "* June cohort has also the highest number of orders during all lifetimes.\n",
    "\n",
    "* Cumulatively, all summer months, September and November cohorts make 1.5-2 orders per user by the end of their lifetime, with June cohort having the leading position with 2.19 orders per customer.\n",
    "\n",
    "[Back to Contents](#back)"
   ]
  },
  {
   "cell_type": "markdown",
   "id": "950952c7-13c6-4b26-8758-d37f2f89cba8",
   "metadata": {},
   "source": [
    "<h3>2.2.3. average purchase size</h3> <a id='purchase_size'></a>"
   ]
  },
  {
   "cell_type": "markdown",
   "id": "d176d824-bd74-4672-97c4-edfa40199d82",
   "metadata": {},
   "source": [
    "What is the average purchase size?"
   ]
  },
  {
   "cell_type": "markdown",
   "id": "1f58dc6f-f7d4-43ab-91a9-ef0c4b7f3c79",
   "metadata": {},
   "source": [
    "<h4>2.2.3.1. overall average check</h4> <a id='average_check'></a>"
   ]
  },
  {
   "cell_type": "code",
   "execution_count": null,
   "id": "a4ad6b06-859d-42b7-9b30-b7f163bca7bf",
   "metadata": {},
   "outputs": [],
   "source": [
    "orders.head()"
   ]
  },
  {
   "cell_type": "code",
   "execution_count": null,
   "id": "d2e703d2-55f4-4869-afb4-9a97df460fb8",
   "metadata": {},
   "outputs": [],
   "source": [
    "# checking the distribution of the revenue values\n",
    "orders['revenue'].describe()"
   ]
  },
  {
   "cell_type": "code",
   "execution_count": null,
   "id": "c0d9e247-49c9-49a2-8006-45a2c75f90f7",
   "metadata": {},
   "outputs": [],
   "source": [
    "orders['revenue'].hist(bins=100)"
   ]
  },
  {
   "cell_type": "markdown",
   "id": "9ec37d46-346e-47da-88ab-a876191cf8ed",
   "metadata": {},
   "source": [
    "According to the histogram, the revenue isn't evenly distributed. \\\n",
    "Since this is not a normal distribution, the average revenue will be calculated using median() instead of mean()."
   ]
  },
  {
   "cell_type": "code",
   "execution_count": null,
   "id": "c6ee853b-5094-4e61-af49-e72413965837",
   "metadata": {},
   "outputs": [],
   "source": [
    "# calculating the overall average purchase size\n",
    "orders['revenue'].median()"
   ]
  },
  {
   "cell_type": "markdown",
   "id": "c949eb9d-d4c0-4a1f-9a48-92d345e4e431",
   "metadata": {},
   "source": [
    "[Back to Contents](#back)"
   ]
  },
  {
   "cell_type": "markdown",
   "id": "86459278-3273-4c71-8851-91eb1af2efef",
   "metadata": {},
   "source": [
    "<h4>2.2.3.2. average check per customer</h4> <a id='customer_check'></a>"
   ]
  },
  {
   "cell_type": "code",
   "execution_count": null,
   "id": "a68f24d0-8bd5-4cac-bb5f-02b24b821446",
   "metadata": {},
   "outputs": [],
   "source": [
    "# calculating the average purchase size per customer\n",
    "avg_check = orders.groupby(['uid'])['revenue'].mean().reset_index()\n",
    "avg_check.columns = ['uid', 'average_check']\n",
    "avg_check.head()"
   ]
  },
  {
   "cell_type": "code",
   "execution_count": null,
   "id": "1a75ff5b-2e14-4aeb-aa7a-f29b71d95203",
   "metadata": {},
   "outputs": [],
   "source": [
    "# checking the distribution of the average check values\n",
    "avg_check['average_check'].describe()"
   ]
  },
  {
   "cell_type": "code",
   "execution_count": null,
   "id": "f92dee11-ec3d-4924-8b3b-34e73dfbd6cc",
   "metadata": {},
   "outputs": [],
   "source": [
    "avg_check['average_check'].hist(bins=100)"
   ]
  },
  {
   "cell_type": "code",
   "execution_count": null,
   "id": "2d4982fb-337d-481f-8d01-6a8712e92fa0",
   "metadata": {},
   "outputs": [],
   "source": [
    "# calculating the overall average purchase size per customer\n",
    "avg_check['average_check'].median()"
   ]
  },
  {
   "cell_type": "markdown",
   "id": "f1b43f6e-c8ae-44f7-af92-2ddf3758096f",
   "metadata": {},
   "source": [
    "[Back to Contents](#back)"
   ]
  },
  {
   "cell_type": "markdown",
   "id": "aedbc314-bc08-438c-bbb2-2f89bbaba70d",
   "metadata": {},
   "source": [
    "<h4>2.2.3.3. average check per month</h4> <a id='month_check'></a>"
   ]
  },
  {
   "cell_type": "code",
   "execution_count": null,
   "id": "36d82751-c692-4def-b7a7-8334fafc5851",
   "metadata": {},
   "outputs": [],
   "source": [
    "# calculating the average purchase size per month\n",
    "check_per_month = orders.groupby(['order_month'])['revenue'].mean().reset_index()\n",
    "check_per_month.columns = ['order_month', 'average_check']\n",
    "check_per_month"
   ]
  },
  {
   "cell_type": "code",
   "execution_count": null,
   "id": "974eb79d-0666-4982-b2ff-87b71d670856",
   "metadata": {},
   "outputs": [],
   "source": [
    "# plotting how the average check was changing over time (per month)\n",
    "fig_av_check = px.bar(check_per_month, x='order_month', y='average_check', title='The average purchase size per month', width=1200, height=500)\n",
    "fig_av_check.update_layout(xaxis_title = 'order month', yaxis_title = 'average check', showlegend=False)\n",
    "# setting 1 tick per month (setting xaxis.tickvals to an array of the exact dates where the tick marks should appear)\n",
    "fig_av_check.layout.xaxis.tickvals = pd.date_range('2017-06', '2018-06', freq='MS')\n",
    "# setting the abbreviated month name for each x axis tick\n",
    "fig_av_check.layout.xaxis.tickformat = '%b'\n",
    "#adding reference line with the overall average check\n",
    "fig_av_check.add_hline(y=orders['revenue'].median(),line_dash=\"dash\", line_color=\"orange\", annotation_text=\"overall average check\", annotation_position=\"top left\")\n",
    "fig_av_check.update_traces(marker_color='steelblue')\n",
    "fig_av_check.show()"
   ]
  },
  {
   "cell_type": "markdown",
   "id": "61aeff9a-b05c-4401-93b1-be3fa6620950",
   "metadata": {},
   "source": [
    "[Back to Contents](#back)"
   ]
  },
  {
   "cell_type": "markdown",
   "id": "8f663304-8ddd-43b5-be8f-afd56e28341a",
   "metadata": {},
   "source": [
    "<h4>2.2.3.4. cohort analysis on the average check per month</h4> <a id='cohort_month_check'></a>"
   ]
  },
  {
   "cell_type": "code",
   "execution_count": null,
   "id": "85623d7c-ddd8-4247-ac62-b24f26656e92",
   "metadata": {},
   "outputs": [],
   "source": [
    "# calculating the average purchase size per cohort and lifeitme\n",
    "avg_cohort = orders.groupby(['first_order_month','lifetime'])['revenue'].mean().reset_index()\n",
    "avg_cohort.columns = ['first_order_month', 'lifetime', 'revenue']\n",
    "avg_cohort.head()"
   ]
  },
  {
   "cell_type": "code",
   "execution_count": null,
   "id": "aeb7bc3c-5095-45af-8cba-6331c17bdb28",
   "metadata": {},
   "outputs": [],
   "source": [
    "# creating a pivot table to perform cohort analysis on the average check per month\n",
    "avg_cohort_pivot = avg_cohort.pivot_table(index='first_order_month', columns='lifetime', values='revenue', aggfunc='mean')\n",
    "avg_cohort_pivot.round(2).fillna('')"
   ]
  },
  {
   "cell_type": "code",
   "execution_count": null,
   "id": "43943d0c-56e6-4c7f-aab0-b80f2c6e5a5f",
   "metadata": {},
   "outputs": [],
   "source": [
    "# using heatmap to visualize the average purchase size per lifetime\n",
    "plt.figure(figsize=(10, 8))\n",
    "plt.title('Average purchase size over time')\n",
    "avg_cohort_pivot.index=avg_cohort_pivot.index.astype(str)\n",
    "sns.heatmap(avg_cohort_pivot, annot=True, fmt='.1f', linewidths=1, linecolor='grey', vmax=10, cbar_kws= {'orientation': 'horizontal'})\n",
    "plt.show()"
   ]
  },
  {
   "cell_type": "markdown",
   "id": "866d96a1-30b3-4111-be59-3271609facc8",
   "metadata": {},
   "source": [
    "<h3>Conclusions</h3> <a id='conclusions_10'></a>\n",
    "\n",
    "* The overall average purchase size is 2.5.\n",
    "\n",
    "* The average purchase size per customer is also 2.5.\n",
    "\n",
    "* The  average purchase size per month stays above the overall average check for all months.\n",
    "\n",
    "* There seems to be no seasonal effect on the average check per month.\n",
    "\n",
    "* The highest average check is in December, the lowest – in June 2017 and June 2018.\n",
    "\n",
    "* The cohort analysis shows changes in the average purchase size by cohorts grouped by lifetime:\n",
    "    * The average check increases in the 1st month after the 1st purchase for all cohorts, but by the 4th lifetime month it starts to decrease.\n",
    "    * September and December cohorts have high average check values during all their lifetime.\n",
    "    * October, November and February cohorts spend approximately the same amount of money each month as in the beginning.\n",
    "    * The general trend: customers start spending more money over time.\n",
    "\n",
    "[Back to Contents](#back)"
   ]
  },
  {
   "cell_type": "markdown",
   "id": "554134fd-50d5-418d-95db-150d1b6ef582",
   "metadata": {},
   "source": [
    "<h3>2.2.4. LTV</h3> <a id='LTV'></a>"
   ]
  },
  {
   "cell_type": "markdown",
   "id": "761eeda1-1c14-42f8-bc25-68991bb7c925",
   "metadata": {},
   "source": [
    "How much money do customers bring? (LTV)"
   ]
  },
  {
   "cell_type": "markdown",
   "id": "acf883ba-e26c-4dd1-ab88-39144a8932ae",
   "metadata": {},
   "source": [
    "Steps to calculate LTV:\n",
    "* Find the number of unique users in each cohort:\n",
    "    * retrieve the month of each customer's first purchase \\\n",
    "      done in step 2.2.2. number of orders: \\\n",
    "      orders['first_order_month'] = orders['first_order'].values.astype('datetime64[M]')\n",
    "    * calculate the number of new buyers for each month (cohort size) \\\n",
    "      done in step 2.2.2. number of orders: \\\n",
    "      cohort_customers = orders.groupby('first_order_month').agg({'uid': 'nunique'}).reset_index()\n",
    "* Create a cohort report:\n",
    "    * group the orders into cohorts by month of first purchase and month of purchase and sum up the revenue\n",
    "    * merge these cohorts with cohort sizes to add data on how many customers made their first purchases in each month\n",
    "* Calculate LTV:\n",
    "    * calculate gross profit: gp = revenue * margin rate \\\n",
    "      __assumption__: for this project the margin rate=1, so gp (gross profit) = revenue.\n",
    "    * find the age of each cohort in months \\\n",
    "      done in step 2.2.2. number of orders: \\\n",
    "      orders['lifetime'] = (orders['order_month'].values.astype('datetime64[M]') - orders['first_order_month'].values.astype('datetime64[M]')).astype(int)\n",
    "    * calculate LTV for cohorts \\\n",
    "      LTV = revenue per lifetime / cohort size\n",
    "* Visualize the cohorts as a pivot table and as a heatmap"
   ]
  },
  {
   "cell_type": "code",
   "execution_count": null,
   "id": "1b86aaf0-49cc-4970-ab53-88c09c048890",
   "metadata": {},
   "outputs": [],
   "source": [
    "# getting the revenue per cohort in each month\n",
    "ltv_cohort = orders.groupby(['first_order_month','lifetime'])['revenue'].sum().reset_index()\n",
    "ltv_cohort"
   ]
  },
  {
   "cell_type": "code",
   "execution_count": null,
   "id": "4df04df8-3d1d-4594-a465-3be86509d785",
   "metadata": {},
   "outputs": [],
   "source": [
    "# merging with the cohort size\n",
    "ltv = ltv_cohort.merge(cohort_customers, on=['first_order_month'], how='left')\n",
    "ltv"
   ]
  },
  {
   "cell_type": "code",
   "execution_count": null,
   "id": "ab493bf2-4d0a-4fea-80ce-117294568340",
   "metadata": {},
   "outputs": [],
   "source": [
    "# calculating ltv\n",
    "ltv['ltv'] = ltv['revenue'] / ltv['cohort_size']\n",
    "ltv"
   ]
  },
  {
   "cell_type": "code",
   "execution_count": null,
   "id": "cc2d0369-753c-45f1-ac4e-cce5558be3be",
   "metadata": {},
   "outputs": [],
   "source": [
    "# creating a pivot table with ltv\n",
    "# cumsum() is applied to the pivot table since ltv is a cumulative metric\n",
    "ltv_pivot = ltv.pivot_table(index='first_order_month', columns='lifetime', values='ltv', aggfunc='sum').cumsum(axis=1)\n",
    "ltv_pivot.round(2).fillna('')"
   ]
  },
  {
   "cell_type": "code",
   "execution_count": null,
   "id": "f0d9329c-c3ad-4549-8513-fb6a6ae8f84e",
   "metadata": {},
   "outputs": [],
   "source": [
    "# visualizing ltv using heatmap\n",
    "ltv_pivot.index=ltv_pivot.index.astype(str)\n",
    "plt.figure(figsize=(10, 8))\n",
    "sns.heatmap(ltv_pivot, annot=True, fmt='.2f', linewidths=1, linecolor='grey', cbar_kws= {'orientation': 'horizontal'}).set(title ='LTV')\n",
    "plt.show()"
   ]
  },
  {
   "cell_type": "markdown",
   "id": "a71f4a56-c4f3-4296-8eb9-de0a8e58326f",
   "metadata": {},
   "source": [
    "<h3>Conclusions</h3> <a id='conclusions_11'></a>\n",
    "\n",
    "* For LTV calculations, the assumption is made that margin rate=1.\n",
    "\n",
    "* LTV is calculated as the total amount of money each customer brings per lifetime.\n",
    "\n",
    "* In the 0th lifetime month, the customers from July and September cohorts have the highest lifetime value, \\\n",
    "  while the customers from January and February have the lowest LTV.\n",
    "\n",
    "* On average a customer from a July cohort brings back 6.01 usd in his 0th lifetime month, while a customer from a January cohort brings back 4.14 usd.\n",
    "\n",
    "* All winter (except for December) and spring cohorts have lower LTV compared to summer and autumn cohorts.\n",
    "\n",
    "* After 6 months the September cohort has the best cumulative LTV.\n",
    "\n",
    "* By the end of the lifetime, the September and June cohorts have the highest cumulative LTV.\n",
    "\n",
    "[Back to Contents](#back)"
   ]
  },
  {
   "cell_type": "markdown",
   "id": "73981021-7598-4b1f-920c-5e7b9e65ef8a",
   "metadata": {},
   "source": [
    "<h2>Sales summary</h2> <a id='summary_3'></a>\n",
    "\n",
    "1. On average, a website visitor makes a purchase on the same day (conversion 0d).\n",
    "2. 75% of visitors are converted into buyers within 2 days.\n",
    "3. Overall, 16% of users are converted into buyers.\n",
    "4. Conversion time correlates with the number of ads per channel.\n",
    "5. Source 9 requires the longest time to convert customers into buyers, and has the lowest conversion rate.\n",
    "6. Sources 1 and 10 take the least time to convert visitors into buyers, and have the highest conversion rate.\n",
    "7. Sources 6, 7 and 8 are not taken into account due to lack of data for them.\n",
    "8. A customer makes on average 1 order in his 0th lifetime month.\n",
    "9. After the 0th lifetime, the number of orders drops significantly for each cohort for all subsequent months.\n",
    "10. June cohort has the highest number of orders during all lifetimes.\n",
    "11. Cumulatively, all summer months, September and November cohorts make 1.5-2 orders per user by the end of their lifetime.\n",
    "12. The average purchase size per customer and overall is 2.5 usd.\n",
    "13. There is no seasonal effect on the average check per month.\n",
    "14. Overall, customers start spending more money over time.\n",
    "15. September and December cohorts have high average check during all their lifetime.\n",
    "16. For LTV calculations, the assumption is made that margin rate=1.\n",
    "17. In the 0th lifetime month:\n",
    "    * July and September cohorts have the highest lifetime value (6.01 and 5.64)\n",
    "    * January and February cohorts have the lowest LTV (4.14 and 4.16)\n",
    "18. All winter (except for December) and spring cohorts have lower LTV compared to summer and autumn cohorts.\n",
    "19. September and June cohorts have the highest cumulative LTV by the end of the lifetime.\n",
    "\n",
    "[Back to Contents](#back)"
   ]
  },
  {
   "cell_type": "markdown",
   "id": "8013b603-1d6c-4110-81b7-530ec2b4bb39",
   "metadata": {},
   "source": [
    "<h2>2.3. Marketing</h2> <a id='marketing'></a>"
   ]
  },
  {
   "cell_type": "markdown",
   "id": "1b99ef6a-0e83-47ce-b70d-b8c3a7b4ccd0",
   "metadata": {},
   "source": [
    "<h3>2.3.1. money spent per source</h3> <a id='money_spent'></a>"
   ]
  },
  {
   "cell_type": "markdown",
   "id": "80b9bcd4-94a2-456a-9054-0f243eb9634b",
   "metadata": {},
   "source": [
    "How much money was spent? Overall, per source and over time."
   ]
  },
  {
   "cell_type": "markdown",
   "id": "20beee68-7f19-41d8-b6b7-285d58ec06c3",
   "metadata": {},
   "source": [
    "<h4>2.3.1.1. overall marketing costs</h4> <a id='marketing_cost'></a>"
   ]
  },
  {
   "cell_type": "code",
   "execution_count": null,
   "id": "b516c9c6-e282-4101-9fd0-dbeea6334752",
   "metadata": {},
   "outputs": [],
   "source": [
    "# overall marketing cost\n",
    "total_cost = expenses['costs'].sum()\n",
    "print('Total marketing cost is:', total_cost)"
   ]
  },
  {
   "cell_type": "markdown",
   "id": "e2bb9cf9-cf5b-4679-b589-3f879a00724f",
   "metadata": {},
   "source": [
    "<h4>2.3.1.2. marketing costs per source</h4> <a id='marketing_source'></a>"
   ]
  },
  {
   "cell_type": "code",
   "execution_count": null,
   "id": "608c70d2-3527-4a58-8060-7f801cdb3d8b",
   "metadata": {},
   "outputs": [],
   "source": [
    "# marketing costs per source\n",
    "source_cost = expenses.groupby('source_id')['costs'].sum().reset_index()\n",
    "source_cost['%_total'] = (source_cost['costs'] / total_cost * 100).round()\n",
    "source_cost.sort_values(by='costs', ascending=False)"
   ]
  },
  {
   "cell_type": "code",
   "execution_count": null,
   "id": "2e0934ec-d606-4894-9590-d6dedf59c1a6",
   "metadata": {},
   "outputs": [],
   "source": [
    "# marketing costs over time per source\n",
    "fig_cts = px.line(expenses, x='dt', y='costs', color='source_id', width=1200, height=500)\n",
    "fig_cts.update_layout(xaxis_title = 'date', yaxis_title = 'marketing costs',  title='Marketing costs per source')\n",
    "fig_cts.update_layout(xaxis = dict(tickmode = 'array', tickvals = check_per_month['order_month']))\n",
    "fig_cts.layout.xaxis.tickformat = '%b'\n",
    "fig_cts.show()"
   ]
  },
  {
   "cell_type": "markdown",
   "id": "c75777bd-e0c6-4092-802f-b66adbb86c8d",
   "metadata": {},
   "source": [
    "[Back to Contents](#back)"
   ]
  },
  {
   "cell_type": "markdown",
   "id": "396d625f-c8c2-411e-8f3a-dcfbd29a3edc",
   "metadata": {},
   "source": [
    "<h4>2.3.1.3. marketing costs per month</h4> <a id='marketing_month'></a>"
   ]
  },
  {
   "cell_type": "code",
   "execution_count": null,
   "id": "f5843338-33a7-4841-929a-f65f4bb8227b",
   "metadata": {},
   "outputs": [],
   "source": [
    "# adding month of the marketing expenses\n",
    "expenses['month'] = expenses['dt'].values.astype('datetime64[M]')"
   ]
  },
  {
   "cell_type": "code",
   "execution_count": null,
   "id": "928418fb-416f-41d5-b6ad-ce8b99c51778",
   "metadata": {},
   "outputs": [],
   "source": [
    "# marketing costs per month\n",
    "cost_per_month = expenses.groupby('month')['costs'].sum().reset_index()\n",
    "cost_per_month['%_total'] = (cost_per_month['costs'] / total_cost * 100).round()\n",
    "cost_per_month"
   ]
  },
  {
   "cell_type": "code",
   "execution_count": null,
   "id": "5494eec4-306b-48f7-93b2-3d906ca9e5c0",
   "metadata": {},
   "outputs": [],
   "source": [
    "# plotting marketing costs per month\n",
    "# in general, the bar chart would be better for this purpose, but\n",
    "# here the line chart is used because it will be better for later comparison with other metrics.\n",
    "fig_cm = px.line(cost_per_month, x='month', y='costs', width=1200, height=500)\n",
    "fig_cm.update_traces(mode='markers+lines')\n",
    "fig_cm.update_layout(xaxis_title = 'month', yaxis_title = 'marketing costs',  title='Marketing costs per month')\n",
    "fig_cm.update_layout(xaxis = dict(tickmode = 'array', tickvals = cost_per_month['month']))\n",
    "fig_cm.layout.xaxis.tickformat = '%b'\n",
    "fig_cm.show()"
   ]
  },
  {
   "cell_type": "markdown",
   "id": "a8487899-d2a3-4a2e-bff8-300befdf84f5",
   "metadata": {},
   "source": [
    "[Back to Contents](#back)"
   ]
  },
  {
   "cell_type": "markdown",
   "id": "0a30c8f9-a127-4860-a50a-be6602105c1c",
   "metadata": {},
   "source": [
    "<h4>2.3.1.4. marketing costs per month and source</h4> <a id='marketing_month_source'></a>"
   ]
  },
  {
   "cell_type": "code",
   "execution_count": null,
   "id": "299b3b59-4919-41d1-8909-c9547399cf5d",
   "metadata": {},
   "outputs": [],
   "source": [
    "# marketing costs per month and source\n",
    "cost_month_source = expenses.groupby(['month', 'source_id'])['costs'].sum().reset_index()\n",
    "cost_month_source"
   ]
  },
  {
   "cell_type": "code",
   "execution_count": null,
   "id": "3a4972bc-492a-4686-a6b1-8a96c86e6f93",
   "metadata": {},
   "outputs": [],
   "source": [
    "costs_pivot = cost_month_source.pivot_table(index='month', columns='source_id', values='costs', aggfunc='sum').round()\n",
    "costs_pivot"
   ]
  },
  {
   "cell_type": "code",
   "execution_count": null,
   "id": "be711f7c-8322-4130-ac1c-26b9e54ababa",
   "metadata": {},
   "outputs": [],
   "source": [
    "# plotting marketing costs per month and source\n",
    "fig_cms = px.line(cost_month_source, x='month', y='costs', color='source_id', width=1200, height=500)\n",
    "fig_cms.update_traces(mode='markers+lines')\n",
    "fig_cms.update_layout(xaxis_title = 'month', yaxis_title = 'marketing costs',  title='Marketing costs per month and source')\n",
    "fig_cms.update_layout(xaxis = dict(tickmode = 'array', tickvals = cost_month_source['month']))\n",
    "fig_cms.layout.xaxis.tickformat = '%b'\n",
    "fig_cms.show()"
   ]
  },
  {
   "cell_type": "markdown",
   "id": "fdee3c23-7897-4f13-a453-26b037e9577d",
   "metadata": {},
   "source": [
    "[Back to Contents](#back)"
   ]
  },
  {
   "cell_type": "markdown",
   "id": "9040794f-debd-42bb-b515-7df47f3ffda9",
   "metadata": {},
   "source": [
    "<h4>2.3.1.5. marketing costs vs MAU vs revenue per month</h4> <a id='marketing_comparison'></a>"
   ]
  },
  {
   "cell_type": "code",
   "execution_count": null,
   "id": "1bec6e7a-e7b9-44db-9b44-0ea393d83e5b",
   "metadata": {},
   "outputs": [],
   "source": [
    "# calculating total revenue per month\n",
    "revenue_per_month = orders.groupby('order_month')['revenue'].sum().reset_index()"
   ]
  },
  {
   "cell_type": "code",
   "execution_count": null,
   "id": "5efaa362-b51a-4e83-9ceb-80812b8fdfd4",
   "metadata": {},
   "outputs": [],
   "source": [
    "# exploring marketing costs vs number of visitors vs revenue per month\n",
    "trace1 = go.Scatter(x=cost_per_month['month'], y=cost_per_month['costs'], mode='lines+markers', name='marketing costs', line=dict(color='red'))\n",
    "trace2 = go.Scatter(x=mau['session_month'], y=mau['number_customers'], mode='lines+markers', name='MAU', line=dict(color='green'))\n",
    "trace3 = go.Scatter(x=revenue_per_month['order_month'], y=revenue_per_month['revenue'], mode='lines+markers', name='revenue', line=dict(color='blue'))\n",
    "data = [trace1, trace2, trace3]\n",
    "layout = go.Layout(title='Marketing costs vs MAU vs revenue per month', xaxis=dict(title='month'), yaxis=dict(title='revenue / customers / costs'), width=1200, height=500)\n",
    "fig = go.Figure(data=data, layout=layout)\n",
    "fig.update_layout(xaxis = dict(tickmode = 'array', tickvals = cost_per_month['month']))\n",
    "fig.layout.xaxis.tickformat = '%b'\n",
    "fig.show()\n",
    "\n",
    "# an alternative way to plot this using Matplotlib:\n",
    "# plt.figure(figsize=(15, 8))\n",
    "# plt.plot(mau['session_month'], mau['number_customers'], color='blue', label='MAU')\n",
    "# plt.plot(cost_per_month['month'], cost_per_month['costs'], color='red', label='Cost per month')\n",
    "# plt.title('Marketing costs per month vs MAU')\n",
    "# plt.xlabel('month')\n",
    "# plt.ylabel('customers / costs')\n",
    "# plt.legend()\n",
    "# plt.grid(True)\n",
    "\n",
    "# an alternative way to plot this using Plotly Express:\n",
    "# fig = px.line(mau, x='session_month', y=[mau['number_customers'], cost_per_month['costs']], width=1200, height=500)\n",
    "# fig.update_layout(xaxis_title = 'month', yaxis_title = 'number of customers / marketing costs',  title='Marketing costs per month vs MAU')\n",
    "# fig.update_layout(xaxis = dict(tickmode = 'array', tickvals = cost_per_month['month']))\n",
    "# fig.update_traces({'name': 'MAU'}, selector={'name': 'number_customers'}, mode='markers+lines')\n",
    "# fig.update_traces({'name': 'marketing cost'}, selector={'name': 'wide_variable_1'}, mode='markers+lines')\n",
    "# fig.show()\n",
    "\n",
    "# an alternative way to plot this by adding scatter using Plotly Express:\n",
    "# fig = px.line(mau, x='session_month', y='number_customers', markers=True, width=1200, height=500)\n",
    "# fig.update_layout(xaxis_title = 'month', yaxis_title = 'number of customers (blue) / marketing cost (red)', title='Marketing costs per month vs MAU')\n",
    "# fig.add_scatter(x=cost_per_month['month'], y=cost_per_month['costs'], mode='markers+lines')\n",
    "# fig.update_layout(xaxis = dict(tickmode = 'array', tickvals = cost_per_month['month']))\n",
    "# fig.show()"
   ]
  },
  {
   "cell_type": "markdown",
   "id": "e3473721-8a03-478d-b614-3ccbaf7eedfe",
   "metadata": {},
   "source": [
    "<h3>Conclusions</h3> <a id='conclusions_12'></a>\n",
    "\n",
    "* The total marketing cost per year is 329132.\n",
    "\n",
    "* Source 3 is by far the highest in terms of spending,  accounting for 43% of the annual marketing budget.\n",
    "\n",
    "* Sources 9 and 10 are the lowest in terms of spending: 2% of the marketing budget.\n",
    "\n",
    "* In the beginning, the marketing costs were low, then they started raising from September, and from January there is a gradual decrease in the spendings.\n",
    "\n",
    "* The highest spendings on marketing were from October until December, while the lowest – in August.\n",
    "\n",
    "* In August all marketing sources got the least budget.\n",
    "\n",
    "* The marketing costs correlate strongly with the number of visitors per month during the whole period.\n",
    "\n",
    "* The marketing costs are also  strongly correlated with the revenue until October.\n",
    "\n",
    "* From November the revenue is not correlated with the marketing costs and MAU.\n",
    "\n",
    "* __The correlation between marketing costs and MAU__ can be explained by:\n",
    "    * increased product awareness and an enhanced engagement with it\n",
    "    * targeted campaigns (e.g. demographic campaigns)\n",
    "    * promotions or loyalty programs, which can help maintain or increase MAU\n",
    "\n",
    "\n",
    "* __The correlation between marketing costs and revenue until October__ can be explained by:\n",
    "    * marketing investments help attract new customers, which directly contributes to increased sales and revenue\n",
    "    * product awareness enhances product recognition, leading to higher customer trust and willingness to purchase\n",
    "    * customer retention via loyalty programs and personalized communication, can enhance retention and encourage repeat purchases, thus driving revenue\n",
    "\n",
    "\n",
    "* __The lack of correlation between marketing costs and revenue from November__ could occur due to:\n",
    "    * market saturation: in a saturated market, increased marketing spend might not lead to significant revenue growth, as potential customers have limited choices\n",
    "    * decreasing returns: after a certain point, additional marketing spend may bring lower returns, meaning that further investment doesn’t significantly boost revenue\n",
    "    * external factors: lack of events, or changes in consumer behavior can impact revenue independently of marketing spend.\n",
    "\n",
    "[Back to Contents](#back)"
   ]
  },
  {
   "cell_type": "markdown",
   "id": "8f46a8dc-19b5-464f-a6be-e0abec296d78",
   "metadata": {},
   "source": [
    "<h3>2.3.2. customer acquisition cost</h3> <a id='customer_cost'></a>"
   ]
  },
  {
   "cell_type": "markdown",
   "id": "49b930b0-e6d5-4632-9629-289583e22159",
   "metadata": {},
   "source": [
    "How much did customer acquisition from each of the sources cost?"
   ]
  },
  {
   "cell_type": "markdown",
   "id": "dc2048c2-c2ea-48e6-b4b0-8447b60083e5",
   "metadata": {},
   "source": [
    "<h4>2.3.2.1. CAC per source</h4> <a id='cac_source'></a>"
   ]
  },
  {
   "cell_type": "markdown",
   "id": "0365de02-2267-428c-9fb5-bcf9d42a41f0",
   "metadata": {},
   "source": [
    "Steps to find CAC per source:\n",
    "* find the initial ad source the customer came from (the table visits) \\\n",
    "  one customer can come from different sources for his later sessions \\\n",
    "  the table visits is used because even if the customer didn't buy anything, he originally came from the first source\n",
    "* merge this data with the table orders\n",
    "* find the number of buyers per source\n",
    "* find the cost of marketing per source\n",
    "* join these 2 tables\n",
    "* calculate CAC per source = costs per source / buyers per source"
   ]
  },
  {
   "cell_type": "code",
   "execution_count": null,
   "id": "58ef6aa4-60ab-4f26-9288-46e494d7635f",
   "metadata": {},
   "outputs": [],
   "source": [
    "# defining the first source the customers came from as the main source\n",
    "first_source = visits.sort_values('start_ts').groupby('uid').first()['source_id'].reset_index()\n",
    "first_source.columns=['uid','first_source']\n",
    "first_source.head()"
   ]
  },
  {
   "cell_type": "code",
   "execution_count": null,
   "id": "ab16f22b-e2c6-4925-9593-df4cd8cb30be",
   "metadata": {},
   "outputs": [],
   "source": [
    "# merging the data on the first source with the table orders\n",
    "orders = orders.merge(first_source, on=['uid'], how='left')\n",
    "orders.head()"
   ]
  },
  {
   "cell_type": "code",
   "execution_count": null,
   "id": "4e931a65-b6f5-4b48-bced-ae8cd39f3af1",
   "metadata": {},
   "outputs": [],
   "source": [
    "# the number of buyers per source\n",
    "buyers_per_source = orders.groupby('first_source')['uid'].nunique().reset_index()\n",
    "buyers_per_source.columns = ['source', 'buyers']\n",
    "buyers_per_source"
   ]
  },
  {
   "cell_type": "code",
   "execution_count": null,
   "id": "23db868d-78bb-4157-b736-8e776b11d903",
   "metadata": {},
   "outputs": [],
   "source": [
    "# the cost of marketing per source\n",
    "marketing_per_source = expenses.groupby('source_id')['costs'].sum().reset_index()\n",
    "marketing_per_source.columns = ['source', 'costs']\n",
    "marketing_per_source"
   ]
  },
  {
   "cell_type": "code",
   "execution_count": null,
   "id": "4a6e6458-2fd5-4409-90e3-d4021ffd86cc",
   "metadata": {},
   "outputs": [],
   "source": [
    "# joining these 2 tables together\n",
    "CAC_per_source = marketing_per_source.merge(buyers_per_source, on=['source'], how='left')\n",
    "CAC_per_source"
   ]
  },
  {
   "cell_type": "code",
   "execution_count": null,
   "id": "29e787bb-2502-400c-860a-adbc77e7513d",
   "metadata": {},
   "outputs": [],
   "source": [
    "# calculating CAC per source\n",
    "CAC_per_source['CAC_source'] = CAC_per_source['costs'] / CAC_per_source['buyers']\n",
    "CAC_per_source.round(1)"
   ]
  },
  {
   "cell_type": "code",
   "execution_count": null,
   "id": "54e4a3be-aaa7-4160-97f6-f866f1b8ee10",
   "metadata": {},
   "outputs": [],
   "source": [
    "# plotting CAC per source\n",
    "fig_cac = px.bar(CAC_per_source, x='source', y='CAC_source', title='CAC per source', width=1200, height=500)\n",
    "fig_cac.update_layout(xaxis_title = 'source', yaxis_title = 'CAC', showlegend=False)\n",
    "fig_cac.update_layout(xaxis = dict(tickmode = 'array', tickvals = CAC_per_source['source']))\n",
    "#adding reference line with the average CAC\n",
    "fig_cac.add_hline(y=CAC_per_source['CAC_source'].median(),line_dash=\"dash\", line_color=\"orange\", annotation_text=\"average CAC\", annotation_position=\"top left\")\n",
    "fig_cac.update_traces(marker_color='steelblue')\n",
    "fig_cac.show()"
   ]
  },
  {
   "cell_type": "markdown",
   "id": "36752227-d675-4c5f-8566-13e143debbc9",
   "metadata": {},
   "source": [
    "[Back to Contents](#back)"
   ]
  },
  {
   "cell_type": "markdown",
   "id": "a73db50c-ca57-459f-bfc6-e585023b52e3",
   "metadata": {},
   "source": [
    "<h4>2.3.2.2. CAC vs conversion rate per source</h4> <a id='cac_conversion'></a>"
   ]
  },
  {
   "cell_type": "code",
   "execution_count": null,
   "id": "bda57e7d-600c-413d-8f54-8582561f2145",
   "metadata": {},
   "outputs": [],
   "source": [
    "# exploring customer acquisition cost vs conversion rate per ad source\n",
    "trace1 = go.Scatter(x=CAC_per_source['source'], y=CAC_per_source['CAC_source'], mode='lines+markers', name='CAC', line=dict(color='red'))\n",
    "trace2 = go.Scatter(x=conversion_rate_channel['source_id'], y=conversion_rate_channel['conversion_rate_per_channel'], mode='lines+markers', name='conversion rate', line=dict(color='blue'))\n",
    "data = [trace1, trace2]\n",
    "layout = go.Layout(title='Customer acquisition cost vs conversion rate per ad source', xaxis=dict(title='source'), yaxis=dict(title='conversion rate / CAC'), width=1200, height=500)\n",
    "fig = go.Figure(data=data, layout=layout)\n",
    "fig.update_layout(xaxis = dict(tickmode = 'array', tickvals = CAC_per_source['source']))\n",
    "fig.show()"
   ]
  },
  {
   "cell_type": "markdown",
   "id": "a04063d0-5269-4688-bf3b-6ed1d87fbf1b",
   "metadata": {},
   "source": [
    "[Back to Contents](#back)"
   ]
  },
  {
   "cell_type": "markdown",
   "id": "b688277e-791f-4ecd-9b20-ca43743a675e",
   "metadata": {},
   "source": [
    "<h4>2.3.2.3. CAC per month</h4> <a id='cac_month'></a>"
   ]
  },
  {
   "cell_type": "markdown",
   "id": "4f2a6dd2-77c3-419c-be21-6afa2161795b",
   "metadata": {},
   "source": [
    "Steps to find CAC per month:\n",
    "* find the cost of marketing per month \\\n",
    "  found in step 2.3.1. money spent per source: \\\n",
    "  cost_per_month = expenses.groupby('month')['costs'].sum().reset_index()\n",
    "* find the number of buyers per month \\\n",
    "  found in step 2.2.2. number of orders: \\\n",
    "  cohort_customers = orders.groupby('first_order_month').agg({'uid': 'nunique'}).reset_index() \\\n",
    "  cohort_customers.columns=['first_order_month','cohort_size']\n",
    "* join these 2 tables\n",
    "* calculate CAC = costs / buyers"
   ]
  },
  {
   "cell_type": "code",
   "execution_count": null,
   "id": "8d4249f0-541c-4275-83ab-f659024b8310",
   "metadata": {},
   "outputs": [],
   "source": [
    "# marketing costs per month\n",
    "marketing_per_month = cost_per_month[['month', 'costs']]\n",
    "marketing_per_month"
   ]
  },
  {
   "cell_type": "code",
   "execution_count": null,
   "id": "5a5801cf-c289-4eaa-8aeb-865b95d2c7df",
   "metadata": {},
   "outputs": [],
   "source": [
    "# number of buyers per month\n",
    "buyers_per_month = cohort_customers\n",
    "buyers_per_month.columns = ['month','buyers']\n",
    "buyers_per_month"
   ]
  },
  {
   "cell_type": "code",
   "execution_count": null,
   "id": "b35728ca-d141-4fd4-be41-8021bf661139",
   "metadata": {},
   "outputs": [],
   "source": [
    "# joining these 2 tables together\n",
    "CAC_per_month = marketing_per_month.merge(buyers_per_month, on=['month'], how='left')\n",
    "CAC_per_month"
   ]
  },
  {
   "cell_type": "code",
   "execution_count": null,
   "id": "49ae64b2-f353-4f38-b021-e7b93aaeac79",
   "metadata": {},
   "outputs": [],
   "source": [
    "# calculating CAC per month\n",
    "CAC_per_month['CAC_month'] = CAC_per_month['costs'] / CAC_per_month['buyers']\n",
    "CAC_per_month.round(1)"
   ]
  },
  {
   "cell_type": "code",
   "execution_count": null,
   "id": "79b02937-f76a-426d-9d10-279aeef4a4c7",
   "metadata": {},
   "outputs": [],
   "source": [
    "# plotting CAC per month\n",
    "fig_cac = px.bar(CAC_per_month, x='month', y='CAC_month', title='CAC per month', width=1200, height=500)\n",
    "fig_cac.update_layout(xaxis_title = 'month', yaxis_title = 'CAC', showlegend=False)\n",
    "fig_cac.update_layout(xaxis = dict(tickmode = 'array', tickvals = CAC_per_month['month']))\n",
    "fig_cac.layout.xaxis.tickformat = '%b'\n",
    "#adding reference line with the average CAC over months\n",
    "fig_cac.add_hline(y=CAC_per_month['CAC_month'].median(),line_dash=\"dash\", line_color=\"orange\", annotation_text=\"average CAC\", annotation_position=\"top left\")\n",
    "fig_cac.update_traces(marker_color='steelblue')\n",
    "fig_cac.show()"
   ]
  },
  {
   "cell_type": "markdown",
   "id": "a73c4818-6308-432a-9541-d5c426a3f8c8",
   "metadata": {},
   "source": [
    "[Back to Contents](#back)"
   ]
  },
  {
   "cell_type": "markdown",
   "id": "c49e87cd-c958-44a4-8302-db6a225574a0",
   "metadata": {},
   "source": [
    "<h4>2.3.2.4. CAC vs average check per month</h4> <a id='cac_check'></a>"
   ]
  },
  {
   "cell_type": "code",
   "execution_count": null,
   "id": "5673f0c7-cc55-4f3c-ac97-af0e29b251f8",
   "metadata": {},
   "outputs": [],
   "source": [
    "# exploring customer acquisition cost vs average check per month\n",
    "trace1 = go.Scatter(x=CAC_per_month['month'], y=CAC_per_month['CAC_month'], mode='lines+markers', name='CAC', line=dict(color='red'))\n",
    "trace2 = go.Scatter(x=check_per_month['order_month'], y=check_per_month['average_check'], mode='lines+markers', name='purchase size', line=dict(color='blue'))\n",
    "data = [trace1, trace2]\n",
    "layout = go.Layout(title='Customer acquisition cost vs average check per month', xaxis=dict(title='month'), yaxis=dict(title='purchase size / CAC'), width=1200, height=500)\n",
    "fig = go.Figure(data=data, layout=layout)\n",
    "fig.update_layout(xaxis = dict(tickmode = 'array', tickvals = CAC_per_month['month']))\n",
    "fig.layout.xaxis.tickformat = '%b'\n",
    "fig.show()"
   ]
  },
  {
   "cell_type": "markdown",
   "id": "3acfd6bb-1d6c-47b1-ab01-213023153bc8",
   "metadata": {},
   "source": [
    "[Back to Contents](#back)"
   ]
  },
  {
   "cell_type": "markdown",
   "id": "473f318b-0d49-4192-a5e2-5dcb8fb16835",
   "metadata": {},
   "source": [
    "<h4>2.3.2.5. CAC per source per month</h4> <a id='cac_source_month'></a>"
   ]
  },
  {
   "cell_type": "markdown",
   "id": "02964a86-7d9d-4b77-aeec-5854017ea4a9",
   "metadata": {},
   "source": [
    "Steps to find CAC per source per month:\n",
    "* find the initial ad source the customer came from (the table visits) \\\n",
    "  found in calculations of CAC per source\n",
    "* merge this data with the table orders \\\n",
    "  done in calculations of CAC per source\n",
    "* find the number of buyers per month per source\n",
    "* find the cost of marketing per month per source \\\n",
    "  found in step 2.3.1. money spent per source: \\\n",
    "  cost_month_source = expenses.groupby(['month', 'source_id'])['costs'].sum().reset_index()\n",
    "* join these 2 tables\n",
    "* calculate CAC per source per month = costs per source per month / buyers per source per month"
   ]
  },
  {
   "cell_type": "code",
   "execution_count": null,
   "id": "8692ab01-ca80-4abf-81ae-46bb62cae179",
   "metadata": {},
   "outputs": [],
   "source": [
    "# the number of buyers per month per source\n",
    "buyers_per_moth_source = orders.groupby(['first_order_month', 'first_source'])['uid'].nunique().reset_index()\n",
    "buyers_per_moth_source.columns = ['month','source_id','buyers']\n",
    "buyers_per_moth_source.head()"
   ]
  },
  {
   "cell_type": "code",
   "execution_count": null,
   "id": "f9fdd015-a94e-42bb-b3ed-e9e19dee47ee",
   "metadata": {},
   "outputs": [],
   "source": [
    "# the cost of marketing per month per source\n",
    "cost_month_source.head()"
   ]
  },
  {
   "cell_type": "code",
   "execution_count": null,
   "id": "7d83a04c-4d8a-4572-be9b-0ab92567e207",
   "metadata": {},
   "outputs": [],
   "source": [
    "# joining these 2 tables\n",
    "CAC_per_month_source = cost_month_source.merge(buyers_per_moth_source, on=['month','source_id'], how='left')\n",
    "CAC_per_month_source.head()"
   ]
  },
  {
   "cell_type": "code",
   "execution_count": null,
   "id": "16027578-c004-4d0f-a87d-744fb14293b6",
   "metadata": {},
   "outputs": [],
   "source": [
    "# calculating CAC per source per month\n",
    "CAC_per_month_source['CAC'] = (CAC_per_month_source['costs'] / CAC_per_month_source['buyers']).round(1)\n",
    "CAC_per_month_source.head()"
   ]
  },
  {
   "cell_type": "code",
   "execution_count": null,
   "id": "9691fa24-6840-40ab-aa6c-8ac2d929ba79",
   "metadata": {},
   "outputs": [],
   "source": [
    "# plotting CAC per source per month\n",
    "fig_cacs = px.line(CAC_per_month_source, x='month', y='CAC', color='source_id', width=1200, height=500)\n",
    "fig_cacs.update_traces(mode='markers+lines')\n",
    "fig_cacs.update_layout(xaxis_title = 'month', yaxis_title = 'CAC',  title='CAC per source over months')\n",
    "fig_cacs.update_layout(xaxis = dict(tickmode = 'array', tickvals = CAC_per_month_source['month']))\n",
    "fig_cacs.layout.xaxis.tickformat = '%b'\n",
    "fig_cacs.show()"
   ]
  },
  {
   "cell_type": "markdown",
   "id": "2cdcb553-5540-4b4e-817e-60c246986b9a",
   "metadata": {},
   "source": [
    "<h3>Conclusions</h3> <a id='conclusions_13'></a>\n",
    "\n",
    "* Customers from the source 3 have the highest CAC, closely followed by the source 2. \\\n",
    "  But their conversion rate is close to that of the channels 1, 4 and 5, while CAC for these channels is almost twice less.\n",
    "\n",
    "* Customer acquisition from the sources 9 and 10 costs the least amount of money. \\\n",
    "  At the same time, the conversion rate is high for these ad channels, which makes them worth expanding.\n",
    "\n",
    "* Ad sources 2 and 3 have high CAC during the whole year (between 10 and 18), except for May for the source 2.\n",
    "\n",
    "* All other ad sources CAC stays between 3 and 10 usd during the whole year.\n",
    "\n",
    "* The minimum CAC is in May (7.4 usd). \n",
    "\n",
    "* The highest CAC is in August (10.8 usd).\n",
    "\n",
    "* CAC does not vary a lot per month. It stays around the average value during the whole period, except for May. \\\n",
    "  At the same time, marketing costs have strong variation during the whole period. \\\n",
    "  It means that high marketing costs do bring lots of new buyers.\n",
    "\n",
    "* Comparing the customer acquisition cost with the average check per month shows that CAC is higher than the average purchase size throughout all months. \\\n",
    "  It can mean:\n",
    "    * high marketing costs to acquire customers, but customers aren’t spending much on their purchases.\n",
    "    * unbalanced promotional strategies when customers buy at lower price through promotions. This drops the average purchase size, making CAC high.\n",
    "    * low LTV when customers don’t tend to return or make repeat purchases, making the initial acquisition cost lower than their spendings.\n",
    "\n",
    "* It is also notable that peak CAC values correspond to low purchase sizes, and vice versa. \\\n",
    "  This can be explained by the time shift between marketing and purchase: people start buying only a month later after a marketing campaign.\n",
    "\n",
    "[Back to Contents](#back)"
   ]
  },
  {
   "cell_type": "markdown",
   "id": "56b04f71-7da7-44bc-9354-8ef7d0ea511b",
   "metadata": {},
   "source": [
    "<h3>2.3.3. ROI</h3> <a id='ROI'></a>"
   ]
  },
  {
   "cell_type": "markdown",
   "id": "9e7c0407-234b-4567-9493-6c6b043f06c8",
   "metadata": {},
   "source": [
    "How worthwhile where the investments? (ROI)"
   ]
  },
  {
   "cell_type": "markdown",
   "id": "84291499-50a9-4146-bc3a-b945a9c93b82",
   "metadata": {},
   "source": [
    "<h4>2.3.3.1. ROI per cohort</h4> <a id='ROI_cohort'></a>"
   ]
  },
  {
   "cell_type": "markdown",
   "id": "ddde1930-4e1f-4ae8-8241-c92853431e22",
   "metadata": {},
   "source": [
    "Steps to find ROI per cohort:\n",
    "* find LTV for monthly cohorts \\\n",
    "  found in step 2.2.4. LTV \\\n",
    "  ltv_cohort = orders.groupby(['first_order_month','lifetime'])['revenue'].sum().reset_index() \\\n",
    "  ltv = ltv_cohort.merge(cohort_customers, on=['first_order_month'], how='left') \\\n",
    "  ltv['ltv'] = ltv['revenue'] / ltv['cohort_size']\n",
    "* find CAC per month \\\n",
    "  found in step 2.3.2.3. CAC per month \\\n",
    "  CAC_per_month = marketing_per_month.merge(buyers_per_month, on=['month'], how='left') \\\n",
    "  CAC_per_month['CAC_month'] = CAC_per_month['costs'] / CAC_per_month['buyers']\n",
    "* merge these 2 tables together\n",
    "* calculate ROI cohort = LVT per monthly cohort / CAC per month"
   ]
  },
  {
   "cell_type": "code",
   "execution_count": null,
   "id": "e8e2594a-4a7c-4ce9-a166-b3c6e28435a7",
   "metadata": {},
   "outputs": [],
   "source": [
    "LTV_per_month_ROI = ltv[['first_order_month', 'lifetime', 'ltv']]\n",
    "CAC_per_month_ROI = CAC_per_month[['month', 'CAC_month']]\n",
    "CAC_per_month_ROI.columns=['first_order_month','cac']"
   ]
  },
  {
   "cell_type": "code",
   "execution_count": null,
   "id": "17a92e35-a1df-434b-882e-3427b78df3e9",
   "metadata": {},
   "outputs": [],
   "source": [
    "# merging 2 tables together\n",
    "ROI = LTV_per_month_ROI.merge(CAC_per_month_ROI, on=['first_order_month'], how='left')\n",
    "ROI.head()"
   ]
  },
  {
   "cell_type": "code",
   "execution_count": null,
   "id": "1b775bc9-8c7d-476a-8e34-572fc3aca4da",
   "metadata": {},
   "outputs": [],
   "source": [
    "# calculating ROI per cohort\n",
    "ROI['roi'] = ROI['ltv'] / ROI['cac']\n",
    "ROI.head()"
   ]
  },
  {
   "cell_type": "code",
   "execution_count": null,
   "id": "d1079769-9c10-4ee2-aad4-70912e9ff45a",
   "metadata": {},
   "outputs": [],
   "source": [
    "# creating a pivot table for ROI per cohort\n",
    "# the method cumsum() is applied to the pivot table to calculate cumulative ROI\n",
    "ROI_pivot = ROI.pivot_table(index='first_order_month', columns='lifetime', values='roi', aggfunc='mean').cumsum(axis=1).round(2)\n",
    "ROI_pivot.fillna('')"
   ]
  },
  {
   "cell_type": "code",
   "execution_count": null,
   "id": "2447a655-65b6-43fc-b1db-49908e99d619",
   "metadata": {},
   "outputs": [],
   "source": [
    "# visualizing ROI per cohort via heatmap\n",
    "ROI_pivot.index = ROI_pivot.index.astype(str)\n",
    "plt.figure(figsize=(10, 8))\n",
    "sns.heatmap(ROI_pivot, annot=True, fmt='.2f', linewidths=1, linecolor='grey', cbar_kws= {'orientation': 'horizontal'}).set(title ='Cumulative average ROI per cohort')\n",
    "plt.show()"
   ]
  },
  {
   "cell_type": "markdown",
   "id": "512ef7f3-a0d9-4f77-97e0-a9a92c850d1d",
   "metadata": {},
   "source": [
    "[Back to Contents](#back)"
   ]
  },
  {
   "cell_type": "markdown",
   "id": "1dd9dde4-079a-424b-95d2-5c39eb53775f",
   "metadata": {},
   "source": [
    "<h4>2.3.3.2. ROMI per source</h4> <a id='ROI_source'></a>"
   ]
  },
  {
   "cell_type": "markdown",
   "id": "2ee43fb1-bcac-4eea-b753-f79f43cd8471",
   "metadata": {},
   "source": [
    "Steps to find ROMI (Return On Marketing Investment) per source:\n",
    "* find LTV per source\n",
    "* find CAC per source \\\n",
    "  found in step 2.3.2.1. CAC per source \\\n",
    "  CAC_per_source = marketing_per_source.merge(buyers_per_source, on=['source'], how='left') \\\n",
    "  CAC_per_source['CAC_source'] = CAC_per_source['costs'] / CAC_per_source['buyers']\n",
    "* merge these 2 tables together\n",
    "* calculate ROMI source = LVT per source / CAC per source"
   ]
  },
  {
   "cell_type": "code",
   "execution_count": null,
   "id": "57612db2-7810-4eae-87f0-ac058b4dff9d",
   "metadata": {},
   "outputs": [],
   "source": [
    "# finding LTV per source\n",
    "# LTV per source = revenue per source / buyers per source\n",
    "ltv_per_source = orders.groupby('first_source')[['uid','revenue']].agg({'uid':'nunique','revenue':'sum'}).reset_index()\n",
    "ltv_per_source.columns = ['source', 'buyers', 'revenue']\n",
    "ltv_per_source['ltv'] = ltv_per_source['revenue'] / ltv_per_source['buyers']\n",
    "ltv_per_source"
   ]
  },
  {
   "cell_type": "code",
   "execution_count": null,
   "id": "81e7829a-4243-42aa-b235-27e0f8615a20",
   "metadata": {},
   "outputs": [],
   "source": [
    "# CAC per source\n",
    "cac_source = CAC_per_source[['source', 'CAC_source']]\n",
    "cac_source.columns = ['source', 'cac']\n",
    "cac_source"
   ]
  },
  {
   "cell_type": "code",
   "execution_count": null,
   "id": "faf106d2-6c06-4711-8109-4a5bba6f7441",
   "metadata": {},
   "outputs": [],
   "source": [
    "# merging 2 tables together\n",
    "ROMI = cac_source.merge(ltv_per_source, on=['source'], how='left')\n",
    "ROMI"
   ]
  },
  {
   "cell_type": "code",
   "execution_count": null,
   "id": "7ea21af9-5911-4398-b661-061af0bf5fcf",
   "metadata": {},
   "outputs": [],
   "source": [
    "# calculating ROMI per source\n",
    "ROMI['romi'] = ROMI['ltv'] / ROMI['cac']\n",
    "ROMI"
   ]
  },
  {
   "cell_type": "code",
   "execution_count": null,
   "id": "26833593-78d3-46f8-9203-61ab8b59d42c",
   "metadata": {},
   "outputs": [],
   "source": [
    "# plotting ROMI per source\n",
    "fig_romi = px.bar(ROMI, x='source', y='romi', title='ROMI per source', width=1200, height=500)\n",
    "fig_romi.update_layout(xaxis_title = 'source', yaxis_title = 'ROMI', showlegend=False)\n",
    "fig_romi.update_xaxes(type='category')\n",
    "fig_romi.update_traces(marker_color='steelblue')\n",
    "fig_romi.show()"
   ]
  },
  {
   "cell_type": "markdown",
   "id": "7e376ef8-c8ee-4760-97f6-b59963bda92d",
   "metadata": {},
   "source": [
    "[Back to Contents](#back)"
   ]
  },
  {
   "cell_type": "markdown",
   "id": "89ae85e3-8899-4d5d-9b27-763a1db876fb",
   "metadata": {},
   "source": [
    "<h3>Conclusions</h3> <a id='conclusions_14'></a>\n",
    "\n",
    "* __ROI per cohort__\n",
    "    * The return on investment is below 0 for all months for all cohorts, except for June and September cohorts. \\\n",
    "      It means that only those 2 cohorts have paid off.\n",
    "\n",
    "    * The June cohort has paid off by the 6th month, and September even earlier – by the 3rd month. \\\n",
    "      The LTV for these 2 cohorts also stands out – they are the highest among all cohorts, while the CAC values are very similar to other cohorts.\n",
    "\n",
    "    * By the 4th month the January cohort has the lowest ROI. \\\n",
    "      Initially in the 0th lifetime, this cohort has the lowest ROI as well. \\\n",
    "      This can be due to high CAC and low LTV values for this cohort.\n",
    "\n",
    "    * The August cohort has the highest CAC, but its ROI is below 0. \\\n",
    "      At the same time CAC for September is lower, but ROI is the highest. \\\n",
    "      It can mean that customers acquired in August started actively making purchases only in September.\n",
    "\n",
    "    * In general, the cohorts behave differently in terms of ROI, despite almost the same costs spent on them. \\\n",
    "      It means that ROI is mostly influenced by LTV and not CAC.\n",
    "\n",
    "\n",
    "* __ROMI per source__\n",
    "    * Only ad sources 1, 2, 5 and 9 have paid off.\n",
    "\n",
    "    * Source 1 has the highest ROMI. \\\n",
    "      Marketing spendings on it paid off on 149%. \\\n",
    "      This source has the second highest LTV and an average CAC.\n",
    "\n",
    "    * Source 3 has the lowest ROMI, because it is the most expensive one (has the highest CAC), but its LTV is average.\n",
    "\n",
    "    * Source 3 brings almost the same number of buyers and revenue as source 4 (the same LTV), \\\n",
    "      but source 4 is twice cheaper in terms of CAC, which makes it more interesting for further development than source 3.\n",
    "\n",
    "    * Source 5 has paid off, but it is more expensive than source 4 and also brings less buyers than source 4, \\\n",
    "      while the revenue from them is almost the same. This makes source 4 a better choice than source 5.\n",
    "\n",
    "    * Sources 2 and 9 have similar ROMI, but source 2 costs 2.5 times more than source 9. \\\n",
    "      At the same time source 2 brings 3.5 times more buyers and their LTV is twice bigger than that of source 9. \\\n",
    "      As a recommendation, both of these sources can be used further, but source 9 needs more development to bring more customers.\n",
    "\n",
    "    * Source 10 has CAC similar to source 9 and brings even more buyers, but its LTV is smaller and ROMI is below 0, so it has not paid off.\n",
    "\n",
    "    * In general, ROMI is influenced by both CAC and LTV.\n",
    "\n",
    "[Back to Contents](#back)"
   ]
  },
  {
   "cell_type": "markdown",
   "id": "d584db30-8320-4124-9eed-c0f81e730030",
   "metadata": {},
   "source": [
    "<h2>Marketing summary</h2> <a id='summary_4'></a>\n",
    "\n",
    "1. The total marketing cost per year is 329132 usd.\n",
    "2. Source 3 is the most expensive: 43% of the annual marketing budget.\n",
    "3. Sources 9 and 10 are the cheapest: 2% of the marketing budget.\n",
    "4. The marketing costs follow a curve: low in the beginning, raising from September, decreasing from January.\n",
    "5. From October until December marketing costs are the highest, in August all sources got the least budget.\n",
    "6. The marketing costs correlate with MAU during the whole period, and with the revenue until October.\n",
    "7. Attracting customers via the ad sources 2 and 3 is the most expensive (12.2 and 13.5 usd per user) and stays high during the whole year.\n",
    "8. Customer acquisition from the sources 9 and 10 costs the least amount of money (4.4 and 5.1 usd per user).\n",
    "9. CAC of the other ad sources stays between 3 and 10 usd during the whole year.\n",
    "10. The minimum CAC is in May (7.4 usd).\n",
    "11. The highest CAC is in August (10.8 usd).\n",
    "12. CAC does not vary a lot per month. It stays around the average value during the whole period, except for May.\n",
    "13. CAC is higher than the average purchase size throughout all months.\n",
    "14. ROI is below 0 for all months for all cohorts, except for June and September cohorts.\n",
    "15. Only 2 cohorts have paid off: the September cohort - by the 3rd month, the June cohort - by the 6th month.\n",
    "16. The January cohort has the lowest ROI initially, and by the 4th lifetime month as well.\n",
    "17. In general, ROI is mostly influenced by LTV and not CAC.\n",
    "18. For ROMI: ad sources 1, 2, 5 and 9 have paid off.\n",
    "19. Source 1 has the highest ROMI: 149%.\n",
    "20. Source 3 has the lowest ROMI: 39%.\n",
    "21. In general, ROMI is influenced by both LTV and CAC.\n",
    "\n",
    "[Back to Contents](#back)"
   ]
  },
  {
   "cell_type": "markdown",
   "id": "fa079ada-ff97-44ab-9eda-1f98844013ad",
   "metadata": {},
   "source": [
    "<h1>3. Recommendations</h1> <a id='recommendations'></a>"
   ]
  },
  {
   "cell_type": "markdown",
   "id": "f4827b33-1bf9-47c3-8294-b1f9627be403",
   "metadata": {},
   "source": [
    "<h2>3.1. Product recommendations</h2> <a id='recommendations_product'></a>"
   ]
  },
  {
   "cell_type": "markdown",
   "id": "334a39bf-44b6-45ab-899c-1c9dff02de8a",
   "metadata": {},
   "source": [
    "The interaction with the product is explored using these metrics:\n",
    "* number of customers (DAU, WAU, MAU)\n",
    "* number of sessions\n",
    "* session length (ASL)\n",
    "* user retention rate\n",
    "\n",
    "On average, the website has 908 new visitors daily, 5724 per week, and 23228 per month.\n",
    "\n",
    "__The engagement with the product__ has a clear seasonality effect. \\\n",
    "Most visits occur during autumn and winter months, in spring the activity starts to decrease, with the least number of active users during summer time. \\\n",
    "This can be explained by seasonal conditions, when people tend to spend more time on indoor activities rather than being outside during winter months, and in summer time they prefer outdoor activities and go on vacation.\n",
    "\n",
    "People usually have __1 session__ on the website __per day__. \\\n",
    "This is a good indicator that the website is used on a daily basis. \\\n",
    "Although the number of sessions per day follows the seasonal curve, the number of sessions per user stays almost the same every day: only 1. \\\n",
    "So the peak values in the amount of sessions per day are due to the increased number of visitors on those days and not because each customer interacted more with the website on these days.\n",
    "\n",
    "__The average session lenght__ is not changing much over time. \\\n",
    "Most frequently it lasts 1 minute, and on average a user spends 4-6 minutes on a session. \\\n",
    "This can be explained by the primary goals of the service usage: people visit it to check what events are out there, or to buy a ticket for an event.\n",
    "\n",
    "__Retention rate__ indicates how well customers stay with the service after the first visit. \\\n",
    "The longer a customer uses the service, the greater the potential revenue. \\\n",
    "Winter and spring cohorts have a lower retention rate compared to summer and autumn cohorts. \\\n",
    "Probably, people who start using the website services in winter and spring are occasional users who want to find an extra activity due to reduced outdoor activities at those months, while those who started using the services during summer and autumn are explicitly interested in such events, so their activity does not depend on the time of the year.\n",
    "\n",
    "\n",
    "__*Recommendations:*__\n",
    "\n",
    "1. Since there are lots of new customers during autumn-winter time, offer more products for purchase during these months to increase potential revenue.\n",
    "2. During spring-summer time when the activity is low, focus on loyalty programs for existing customers, and offer attractive campaigns for new users.\n",
    "3. Offer interesting long-term programs for winter and spring cohorts to make sure they keep using the service not just for a few months, but for longer periods."
   ]
  },
  {
   "cell_type": "markdown",
   "id": "d8d16889-1656-4b4c-a61d-305e8dadb68b",
   "metadata": {},
   "source": [
    "<h2>3.2. Sales recommendations</h2> <a id='recommendations_sales'></a>"
   ]
  },
  {
   "cell_type": "markdown",
   "id": "b97cc7c2-cd7c-4825-8487-1a2339d69d0a",
   "metadata": {},
   "source": [
    "The buyers behavior is explored using these metrics:\n",
    "* conversion time and conversion rate\n",
    "* number of orders\n",
    "* average check\n",
    "* LTV\n",
    "\n",
    "__Conversion__ shows when customers start paying, how long it takes from the first visit to the purchase. \\\n",
    "On average, a website visitor makes a purchase on the same day. \\\n",
    "75% of visitors are converted into buyers within 2 days. \\\n",
    "This can be due to the fact that people use the service with a purpose to either look up an event or to buy a ticket for it.\n",
    "\n",
    "__Conversions rate__ reflects the number of visitors that made a purchase. \\\n",
    "It’s a key indicator of marketing effectiveness and helps determine which marketing channel is most effective. \\\n",
    "Overall, 16% of users are converted into buyers. \\\n",
    "At first glance, it takes marketing channels 3 and 4 the longest to convert customers. \\\n",
    "But further exploration of the data shows that the total convertion time strongly correlates with the number of ads per channel. \\\n",
    "Ad source 9 requires the longest time to convert customers into buyers, and has the lowest conversion rate. \\\n",
    "While sources 1 and 10 take the least time to convert visitors into buyers, and have the highest conversion rate.\n",
    "\n",
    "__Number of orders__ helps understand if purchasing behavior changes over time depending on a cohort. \\\n",
    "A customer makes on average 1 order in his 0th lifetime, and after that the number of orders drops significantly for each cohort for all subsequent months. \\\n",
    "This can be because customers use the service just to buy a ticket for a particular event and do not spend money on the service further on. \\\n",
    "June cohort has the highest number of orders during all lifetimes. \\\n",
    "Cumulatively, all summer months, September and November cohorts make 1.5-2 orders per user by the end of their lifetime.\n",
    "\n",
    "__Average check__ shows the typical amount spent per transaction and can inform pricing and upselling strategies. \\\n",
    "The average purchase size per customer and overall is 2.5 usd. \\\n",
    "There is no seasonal effect on the average check per month, despite the lower number of visitors during autumn-winter month. \\\n",
    "The possible reason for it, is that loyal customers steadily pay each month and thus compensate for the lower user engagement during spring-summer months. \\\n",
    "Overall, customers start spending more money over time. \\\n",
    "September and December cohorts have high average check during all their lifetime.\n",
    "\n",
    "__Comparing the number of orders with the average check__, these trends in the customer behavior can be seen:\n",
    "* June cohort makes lots of transactions, but the purchase size per order is small\n",
    "* September and December cohorts make less orders, but pay more for each order\n",
    "\n",
    "__LTV__ measures the total amount of money a customer brings to the company over his entire relationship with the business. \\\n",
    "It indicates long-term profitability. \\\n",
    "For LTV calculations, the assumption is made that margin rate is 1. \\\n",
    "In the 0th lifetime month:\n",
    "* July and September cohorts bring the highest amount of money (6.01 and 5.64)\n",
    "* January and February cohorts have the lowest LTV (4.14 and 4.16)\n",
    "\n",
    "All winter (except for December) and spring cohorts have lower LTV compared to summer and autumn cohorts. \\\n",
    "September and June cohorts have the highest cumulative LTV by the end of the lifetime.\n",
    "\n",
    "\n",
    "__*Recommendations:*__\n",
    "\n",
    "1. The most effective marketing channels for customer conversion are 1 and 10.\n",
    "2. The marketing channel 9 is the least effective for customer conversion.\n",
    "3. Explore June cohort, which has the highest number of orders over time, to understand what marketing strategy led to such stable purchasing behavior.\n",
    "4. Investigate what type of customers make up the September and December cohorts, which have high average check during all lifetime."
   ]
  },
  {
   "cell_type": "markdown",
   "id": "6729c320-590c-40d1-8056-269eac41331b",
   "metadata": {},
   "source": [
    "<h2>3.3. Marketing recommendations</h2> <a id='recommendations_marketing'></a>"
   ]
  },
  {
   "cell_type": "markdown",
   "id": "86165e29-16ad-4f5e-8b0d-2842dc260b32",
   "metadata": {},
   "source": [
    "The marketing strategy is explored using these metrics:\n",
    "* money spent per source\n",
    "* customer acquisition cost (CAC)\n",
    "* ROI and ROMI\n",
    "\n",
    "The total __marketing cost__ per year is 329132 usd.\\\n",
    "Source 3 is the most expensive: 43% of the annual marketing budget.\\\n",
    "Sources 9 and 10 are the cheapest: 2% of the marketing budget.\n",
    "\n",
    "The marketing costs follow a curve: low in the beginning, raising from September, decreasing from January.\\\n",
    "From October until December marketing costs are the highest, in August all sources got the least budget.\n",
    "\n",
    "The marketing costs correlate strongly with MAU during the whole period, and with the revenue until October.\\\n",
    "This can be explained by:\n",
    "* increased product awareness and an enhanced engagement with it, leading to higher customer trust and willingness to purchase\n",
    "* targeted campaigns that help attract new customers, which directly contributes to increased sales and revenue\n",
    "* promotions or loyalty programs and personalized communication, which help maintain or increase MAU and enhance retention encouraging repeat purchases\n",
    "\n",
    "From November the revenue is not correlated with the marketing costs and MAU.\n",
    "This could occur due to:\n",
    "* market saturation: in a saturated market, increased marketing spend might not lead to significant revenue growth, as potential customers have limited choices\n",
    "* decreasing returns: after a certain point, additional marketing spend may bring lower returns, meaning that further investment doesn’t significantly boost revenue\n",
    "* external factors: lack of events, or changes in consumer behavior can impact revenue independently of marketing spend.\n",
    "\n",
    "__Customer acquisition cost (CAC)__ reflects the money a new customer costs a company. \\\n",
    "Attracting customers via the ad sources 2 and 3 is the most expensive (12.2 and 13.5 usd per user) and stays high during the whole year.\\\n",
    "But their conversion rate is close to that of the channels 1, 4 and 5, while CAC for these channels is almost twice less.\\\n",
    "Customer acquisition from the sources 9 and 10 costs the least amount of money (4.4 and 5.1 usd per user).\\\n",
    "At the same time, the conversion rate is high for these ad channels, which makes them worth expanding.\\\n",
    "CAC of the other ad sources stays between 3 and 10 usd during the whole year.\n",
    "\n",
    "The minimum CAC is in May (7.4 usd).\\\n",
    "The highest CAC is in August (10.8 usd).\\\n",
    "CAC does not vary a lot per month. It stays around the average value during the whole period, except for May.\\\n",
    "At the same time, marketing costs have strong variation during the whole period.\\\n",
    "It means that high marketing costs do bring lots of new buyers.\n",
    "\n",
    "__Comparing the customer acquisition cost with the average check per month__ shows that CAC is higher than the average purchase size throughout all months. \\\n",
    "It can mean:\n",
    "* high marketing costs to acquire customers, but customers aren’t spending much on their purchases.\n",
    "* unbalanced promotional strategies when customers buy at lower price through promotions. This drops the average purchase size, making CAC high.\n",
    "* low LTV when customers don’t tend to return or make repeat purchases, making the initial acquisition cost lower than their spendings.\n",
    "\n",
    "It is also notable that peak CAC values correspond to low purchase sizes, and vice versa. \\\n",
    "This can be explained by the time shift between marketing and purchase: people start buying only a month later after a marketing campaign.\n",
    "\n",
    "__Return on investment (ROI)__ \\\n",
    "ROI is below 0 for all months for all cohorts, except for June and September cohorts.\\\n",
    "Only 2 cohorts have paid off: the September cohort - by the 3rd month, the June cohort - by the 6th month.\\\n",
    "The LTV for these 2 cohorts also stands out – they are the highest among all cohorts, while the CAC values are very similar to other cohorts.\\\n",
    "This is a healthy per-customer economics, where LTV is greater than CAC, and ROI is above 0.\n",
    "\n",
    "The January cohort has the lowest ROI initially, and by the 4th lifetime month as well. This can be due to high CAC and low LTV values for this cohort.\\\n",
    "The August cohort has the highest CAC, but its ROI is below 0.\\\n",
    "At the same time CAC for September is lower, but ROI is the highest.\\\n",
    "It can mean that customers acquired in August started actively making purchases only in September.\\\n",
    "In general, the cohorts behave differently in terms of ROI, despite almost the same costs spent on them. It means that ROI is mostly influenced by LTV and not CAC.\n",
    "\n",
    "__Return on Marketing Investment (ROMI)__ \\\n",
    "Only ad sources 1, 2, 5 and 9 have paid off.\\\n",
    "Source 1 has the highest ROMI. Marketing spendings on it paid off on 149%. This source has the second highest LTV and an average CAC.\\\n",
    "Source 3 has the lowest ROMI (39%), because it is the most expensive one (has the highest CAC), but its LTV is average.\\\n",
    "Source 3 brings almost the same number of buyers and revenue as source 4 (the same LTV), but source 4 is twice cheaper in terms of CAC, which makes it more interesting for further development than source 3.\\\n",
    "Source 5 has paid off, but it is more expensive than source 4 and also brings less buyers than source 4, while the revenue from them is almost the same. This makes source 4 a better choice than source 5.\\\n",
    "Sources 2 and 9 have similar ROMI, but source 2 costs 2.5 times more than source 9. At the same time source 2 brings 3.5 times more buyers and their LTV is twice bigger than that of source 9.\\\n",
    "Source 10 has CAC similar to source 9 and brings even more buyers, but its LTV is smaller and ROMI is below 0, so it has not paid off.\\\n",
    "In general, ROMI is influenced by both LTV and CAC.\n",
    "\n",
    "\n",
    "__*Recommendations:*__\n",
    "\n",
    "1. Since CAC is higher than the average check throughout all months, there is a need to revisit the marketing strategy, customer targeting, or pricing structure to ensure that customers are acquired more cost-effectively.\n",
    "2. June and September cohorts are the only ones that paid off, which makes their further exploration worthwhile, as was concluded in the Sales recommendations too.\n",
    "\n",
    "3. These ad sources should be developed further:\n",
    "   * source 1:\n",
    "       * has the highest ROMI\n",
    "       * is one of the most effective channels for customer conversion\n",
    "       * has the second highest LTV and an average CAC\n",
    "    * source 2:\n",
    "        * has paid off\n",
    "        * sources 2 and 9 have similar ROMI, but source 2 costs 2.5 times more than source 9;\n",
    "          at the same time source 2 brings 3.5 times more buyers and their LTV is twice bigger than that of source 9\n",
    "\n",
    "4. These ad sources should be cut out:\n",
    "    * source 3:\n",
    "        * has not paid off\n",
    "        * has the lowest ROMI\n",
    "        * is the most expensive channel, but its LTV is average\n",
    "        * brings almost the same number of buyers and revenue as source 4, but source 4 is twice cheaper in terms of CAC\n",
    "    * source 5:\n",
    "        * has paid off, but it is more expensive than source 4 and also brings less buyers than source 4,\n",
    "          while the revenue from them is almost the same. This makes source 4 a better choice than source 5.\n",
    "    * source 10:\n",
    "        * has not paid off\n",
    "        * has CAC similar to source 9 and brings even more buyers, but its LTV is smaller and ROMI is below 0\n",
    "\n",
    "5. These ad sources have a good potential:\n",
    "    * source 4:\n",
    "        * is cheap in terms of CAC\n",
    "        * while source 5 has paid off, it is more expensive than source 4 and also brings less buyers than source 4;\n",
    "          at the same time the revenue from them is almost the same.\n",
    "    * source 9:\n",
    "        * is one of the cheapest marketing channels\n",
    "        * has ROMI similar to source 2\n",
    "        * but is the least effective for customer conversion, so it needs more development to bring more customers\n",
    "\n"
   ]
  },
  {
   "cell_type": "markdown",
   "id": "9c78a049-6b43-4d5c-9b4b-7f068eaad87a",
   "metadata": {},
   "source": [
    "[Back to Contents](#back)"
   ]
  },
  {
   "cell_type": "markdown",
   "id": "c778564f-b3e8-430d-832b-6c4312fc2782",
   "metadata": {},
   "source": []
  }
 ],
 "metadata": {
  "kernelspec": {
   "display_name": "Python 3 (ipykernel)",
   "language": "python",
   "name": "python3"
  },
  "language_info": {
   "codemirror_mode": {
    "name": "ipython",
    "version": 3
   },
   "file_extension": ".py",
   "mimetype": "text/x-python",
   "name": "python",
   "nbconvert_exporter": "python",
   "pygments_lexer": "ipython3",
   "version": "3.11.7"
  }
 },
 "nbformat": 4,
 "nbformat_minor": 5
}
